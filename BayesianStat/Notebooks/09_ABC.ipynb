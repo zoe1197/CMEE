{
 "cells": [
  {
   "cell_type": "markdown",
   "metadata": {
    "slideshow": {
     "slide_type": "slide"
    }
   },
   "source": [
    "![ICL](Images/imperiallogo.jpeg)\n",
    "\n",
    "# Introduction to Bayesian methods in ecology and evolution\n",
    "\n",
    "## Thursday: 09 - Approximate Bayesian Computation"
   ]
  },
  {
   "cell_type": "markdown",
   "metadata": {
    "slideshow": {
     "slide_type": "slide"
    }
   },
   "source": [
    "### Intended Learning Outcomes\n",
    "\n",
    "At the end of this part you will be able to:\n",
    "* appreciate the applicability of ABC,\n",
    "* describe the rejection algorithm,\n",
    "* critically discuss the choice of summary statistics,\n",
    "* implement ABC methods."
   ]
  },
  {
   "cell_type": "markdown",
   "metadata": {
    "slideshow": {
     "slide_type": "slide"
    }
   },
   "source": [
    "The posterior probability\n",
    "\\begin{equation}\n",
    "    P(\\theta|x) = \\frac{f(x|\\theta)\\pi(\\theta)}{m(x)}\n",
    "\\end{equation}\n",
    "can be difficult to compute as the marginal likelihood\n",
    "\\begin{equation}\n",
    "    m(x) = \\int f(x|\\theta)\\pi(\\theta)d\\theta\n",
    "\\end{equation}\n",
    "may involve a high dimensional integral difficult (or impossible) to solve.\n",
    "\n",
    "If the likelihood can be evaluated up to a normalising constant, Monte Carlo methods can be used to sample from the posterior."
   ]
  },
  {
   "cell_type": "markdown",
   "metadata": {
    "slideshow": {
     "slide_type": "slide"
    }
   },
   "source": [
    "As the models become more complicated, the likelihood function becomes difficult to define and compute.\n",
    "\n",
    "Under these circumstances it is easier to __simulate__ data samples from the model given the value of a parameter.\n",
    "\n",
    "If the data are discrete and of low dimensionality, then it is possible to sample from the posterior density of the parameter without an explicit likelihood function and without approximation."
   ]
  },
  {
   "cell_type": "markdown",
   "metadata": {
    "slideshow": {
     "slide_type": "slide"
    }
   },
   "source": [
    "### Rejection algorithm\n",
    "\n",
    "If data points are __discrete__ and of low dimensionality, given observation $y$, the algorithms repeat the following until $N$ points have been accepted:\n",
    "* Draw $\\theta_i \\sim \\pi(\\theta)$\n",
    "* Simulate $x_i \\sim f(x|\\theta_i)$\n",
    "* Reject $\\theta_i$ if $x_i \\neq y$\n",
    "\n",
    "These are sampled from $P(\\theta|x)$."
   ]
  },
  {
   "cell_type": "markdown",
   "metadata": {
    "slideshow": {
     "slide_type": "notes"
    }
   },
   "source": [
    "The posterior distribution gives the probability distribution of the parameter values that gave rise to the observations.\n",
    "To calculate summaries of this distribution it is possible to draw a histogram and derive notable percentiles."
   ]
  },
  {
   "cell_type": "markdown",
   "metadata": {
    "slideshow": {
     "slide_type": "slide"
    }
   },
   "source": [
    "<img src=\"Images/Elephants.jpg\" width=\"300\" height=\"300\" />\n",
    "We observe $4$ herds arriving. The likelihood is Poisson-distributed with a Gamma-shaped prior $G(3,1)$.\n",
    "The posterior distribution is Gamma distributed with shape parameter $3+4=7$ and scale $0.5$."
   ]
  },
  {
   "cell_type": "markdown",
   "metadata": {
    "slideshow": {
     "slide_type": "notes"
    }
   },
   "source": [
    "Here we assume that we don't know the likelihood function but we can simulate data under this unknown function."
   ]
  },
  {
   "cell_type": "code",
   "execution_count": 3,
   "metadata": {
    "scrolled": true,
    "slideshow": {
     "slide_type": "subslide"
    }
   },
   "outputs": [],
   "source": [
    "# load some already prepared functions\n",
    "source(\"Data/abc.R\")\n",
    "\n",
    "# Rejection algorithm\n",
    "N <- 1e4\n",
    "\n",
    "# data/observations\n",
    "y <- 4\n",
    "\n",
    "# function to simulate is called \"simulateElephants\"\n",
    "thetas <- c()\n",
    "while (length(thetas) <= N) {\n",
    "\n",
    "        # 1. draw from prior (continuous, bounded, uniform)\n",
    "        theta <- runif(1,0,20)\n",
    "\n",
    "        # 2. simulate observations\n",
    "        ysim <- simulateElephants(theta)\n",
    "\n",
    "        # 3. accept/reject\n",
    "        if (ysim == y) thetas <- c(thetas, theta)\n",
    "\n",
    "}"
   ]
  },
  {
   "cell_type": "code",
   "execution_count": 5,
   "metadata": {
    "slideshow": {
     "slide_type": "subslide"
    }
   },
   "outputs": [
    {
     "data": {
      "text/html": [
       "<style>\n",
       ".dl-inline {width: auto; margin:0; padding: 0}\n",
       ".dl-inline>dt, .dl-inline>dd {float: none; width: auto; display: inline-block}\n",
       ".dl-inline>dt::after {content: \":\\0020\"; padding-right: .5ex}\n",
       ".dl-inline>dt:not(:first-of-type) {padding-left: .5ex}\n",
       "</style><dl class=dl-inline><dt>2.5%</dt><dd>1.64738011080772</dd><dt>25%</dt><dd>3.35858528967947</dd><dt>50%</dt><dd>4.66864335816354</dd><dt>75%</dt><dd>6.2584605673328</dd><dt>97.5%</dt><dd>10.3102543810382</dd></dl>\n"
      ],
      "text/latex": [
       "\\begin{description*}\n",
       "\\item[2.5\\textbackslash{}\\%] 1.64738011080772\n",
       "\\item[25\\textbackslash{}\\%] 3.35858528967947\n",
       "\\item[50\\textbackslash{}\\%] 4.66864335816354\n",
       "\\item[75\\textbackslash{}\\%] 6.2584605673328\n",
       "\\item[97.5\\textbackslash{}\\%] 10.3102543810382\n",
       "\\end{description*}\n"
      ],
      "text/markdown": [
       "2.5%\n",
       ":   1.6473801108077225%\n",
       ":   3.3585852896794750%\n",
       ":   4.6686433581635475%\n",
       ":   6.258460567332897.5%\n",
       ":   10.3102543810382\n",
       "\n"
      ],
      "text/plain": [
       "     2.5%       25%       50%       75%     97.5% \n",
       " 1.647380  3.358585  4.668643  6.258461 10.310254 "
      ]
     },
     "metadata": {},
     "output_type": "display_data"
    },
    {
     "data": {
      "image/png": "[encoded data removed]",
      "text/plain": [
       "Plot with title “Histogram of thetas”"
      ]
     },
     "metadata": {
      "image/png": {
       "height": 420,
       "width": 420
      }
     },
     "output_type": "display_data"
    }
   ],
   "source": [
    "hist(thetas)\n",
    "quantile(thetas, c(0.025,0.25,0.5,0.75,0.975))"
   ]
  },
  {
   "cell_type": "markdown",
   "metadata": {
    "slideshow": {
     "slide_type": "slide"
    }
   },
   "source": [
    "If the data are __continuous__ and of low dimensionality, given observation $y$, the algorithms repeat the following until $N$ points have been accepted:\n",
    "* Draw $\\theta_i \\sim \\pi(\\theta)$\n",
    "* Simulate $x_i \\sim f(x | \\theta_i)$\n",
    "* Reject $\\theta_i$ if $\\rho(x_i,y) > \\epsilon$\n",
    "\n",
    "where $\\rho(\\cdot)$ is a function measuring the distance between simulated and observed points."
   ]
  },
  {
   "cell_type": "markdown",
   "metadata": {
    "slideshow": {
     "slide_type": "fragment"
    }
   },
   "source": [
    "$\\rho(\\cdot)$ can be the Euclidean distance $\\rho(x_i, y) = \\sqrt[]{(x_i-y)^2}$"
   ]
  },
  {
   "cell_type": "markdown",
   "metadata": {
    "slideshow": {
     "slide_type": "slide"
    }
   },
   "source": [
    "<img src=\"Images/BumpassHell.jpeg\" width=\"300\" height=\"300\" />\n",
    "Prior distribution is $U(80,110)$.\n",
    "Assume we don't know the likelihood function but we can simulate observations that are distributed according to it.\n",
    "We have a single observation of the temperature $y=91.3514$."
   ]
  },
  {
   "cell_type": "code",
   "execution_count": 6,
   "metadata": {
    "slideshow": {
     "slide_type": "subslide"
    }
   },
   "outputs": [],
   "source": [
    "source(\"Data/abc.R\")\n",
    "# Rejection algorithm in the continuous case\n",
    "N <- 1e3\n",
    "y <- 91.3514\n",
    "epsilon <- 1e-1 \n",
    "\n",
    "# function to simulate is called \"simulateWaterTemp\"\n",
    "\n",
    "# euclidean distance\n",
    "rho <- function(x,y) sqrt((x-y)^2)\n",
    "\n",
    "thetas <- c()\n",
    "while (length(thetas) <= N) {\n",
    "\n",
    "        # 1. draw from prior (continuous, bounded, uniform)\n",
    "        theta <- runif(1, min=80, max=110)\n",
    "\n",
    "        # 2. simulate observations\n",
    "        ysim <- simulateWaterTemp(theta)\n",
    "\n",
    "        # 3. accept/reject\n",
    "        if (rho(ysim,y)<=epsilon) thetas <- c(thetas, theta)\n",
    "\n",
    "}\n"
   ]
  },
  {
   "cell_type": "code",
   "execution_count": null,
   "metadata": {},
   "outputs": [],
   "source": [
    "print(mean(thetas))\n",
    "print(var(thetas))\n",
    "hist(thetas)\n",
    "quantile(thetas, c(0.025,0.25,0.5,0.75,0.975))"
   ]
  },
  {
   "cell_type": "markdown",
   "metadata": {
    "slideshow": {
     "slide_type": "notes"
    }
   },
   "source": [
    "You can appreciate that the more the prior is different from the unknown likelihood function, the lower the acceptance rate."
   ]
  },
  {
   "cell_type": "markdown",
   "metadata": {
    "slideshow": {
     "slide_type": "slide"
    }
   },
   "source": [
    "Instead of choosing $\\epsilon$, we can rank all distances and select only a proportion of the lowest ones.\n",
    "\n",
    "In this case one sets the number of simulations to be performed (not the number of accepted simulations) and the proportions of simulations to retain.\n",
    "\n",
    "It is convenient to investigate the distribution of ranked distances to be sure to retain true outliers in the distribution."
   ]
  },
  {
   "cell_type": "markdown",
   "metadata": {
    "slideshow": {
     "slide_type": "slide"
    }
   },
   "source": [
    "__ACTIVITY__ \n",
    "\n",
    "Implement an ABC rejection algorithm to estimate $\\theta$ assuming that\n",
    "* observations are $Y=\\{91.34, 89.21, 88.98\\}$\n",
    "* $\\theta$ has prior as a Normal distribution centered around 90 with large variance and defined only in $80 \\leq \\theta \\leq 110$\n",
    "* the simulating function is called \"simulateWaterTemp\" in \"Data/abc.R\"\n",
    "* the distance function is $\\rho(x_i, Y)=\\frac{\\sum_{j \\in Y} \\sqrt[]{(x_i-j)^2}}{|Y|}$ where ${|Y|}$ is the cardinality, the number of elements in $Y$.\n",
    "* the total number of simulations is $10,000$ and we want to accept the first $5\\%$ sorted by increasing distance"
   ]
  },
  {
   "cell_type": "markdown",
   "metadata": {
    "slideshow": {
     "slide_type": "subslide"
    }
   },
   "source": [
    "Complete the following tasks:\n",
    "* plot the sampled prior distribution\n",
    "* plot the distribution of ranked distances with indication of $5\\%$ threshold: assess whether the accepted values are likely to come from the (true and unknown) posterior distribution\n",
    "* plot the posterior distribution\n",
    "* calculate expected value and notable quantiles and HPD $95\\%$ (using the library `coda` and function `HPDinterval(as.mcmc(x), prob=0.95)`)"
   ]
  },
  {
   "cell_type": "code",
   "execution_count": null,
   "metadata": {
    "slideshow": {
     "slide_type": "subslide"
    }
   },
   "outputs": [],
   "source": [
    "source(\"Data/abc.R\")\n",
    "# Rejection algorithm with proportions of simulations to accept\n",
    "N <- 1e4\n",
    "Y <- c(91.34, 89.21, 88.98)\n",
    "th <- 0.05\n",
    "\n",
    "# function to simulate is called \"simulateWaterTemp\"\n",
    "source(\"Data/abc.R\")\n",
    "thetas <- c()\n",
    "if (i <- N){\n",
    "    theta <- rnorm(1, mean = 90, lower =80, higher=110)\n",
    "}\n",
    "\n",
    "# distance function\n",
    "# ...\n",
    "\n",
    "# ..."
   ]
  },
  {
   "cell_type": "markdown",
   "metadata": {
    "slideshow": {
     "slide_type": "slide"
    }
   },
   "source": [
    "When the data become high dimensional (e.g. multivariate measurements) then it is necessary to reduce the dimensionality via the use of summary statistics."
   ]
  },
  {
   "cell_type": "markdown",
   "metadata": {
    "slideshow": {
     "slide_type": "notes"
    }
   },
   "source": [
    "For instance, the complete genome of many samples has high dimensionality as it may have up to $N*L$ genotypes with $N$ samples and $L$ number of sites per-genome.\n",
    "\n",
    "One can calculate summary statistics $S(y)$ to describe some features of the data (e.g. indexes of genetic diversity in the case of multiple genomes)."
   ]
  },
  {
   "cell_type": "markdown",
   "metadata": {
    "slideshow": {
     "slide_type": "fragment"
    }
   },
   "source": [
    "If data points are of __high dimensionality__, given observation $y$, repeat the following until $N$ points have been accepted:\n",
    "* Draw $\\theta_i \\sim \\pi(\\theta)$\n",
    "* Simulate $x_i \\sim f( x | \\theta_i)$\n",
    "* Reject $\\theta_i$ if $\\rho(S(x_i),S(y))>\\epsilon$\n",
    "\n",
    "where $S(y)$ is a summary statistic."
   ]
  },
  {
   "cell_type": "markdown",
   "metadata": {
    "slideshow": {
     "slide_type": "notes"
    }
   },
   "source": [
    "The function $S(\\cdot)$ can be a vector."
   ]
  },
  {
   "cell_type": "markdown",
   "metadata": {
    "slideshow": {
     "slide_type": "slide"
    }
   },
   "source": [
    "The use of summary statistics is a mapping from a high dimension to a low dimension.\n",
    "Some information is lost, but with enough summary statistics much of the information is kept.\n",
    "\n",
    "The aim for the summary statistics is to satisfy Bayes' sufficiency\n",
    "\\begin{equation}    P(\\theta|x)=P(\\theta|S(x))\n",
    "\\end{equation}"
   ]
  },
  {
   "cell_type": "markdown",
   "metadata": {
    "slideshow": {
     "slide_type": "notes"
    }
   },
   "source": [
    "The first example of an ABC approach was introduce by Pritchard et al. (1999).\n",
    "They summarised information for 445 Y-chromosome genes copies at eight microsatellites (and therefore 445 times 8 dimensions) into three numbers.\n",
    "The distance was chosen to be a normalised Chebyshev distance\n",
    "\\begin{equation}\n",
    "    \\max_j | \\frac{S_j(x)}{S_j(y)} - 1|\n",
    "\\end{equation}\n",
    "for $j=1,...,s$ summary statistics."
   ]
  },
  {
   "cell_type": "markdown",
   "metadata": {
    "slideshow": {
     "slide_type": "subslide"
    }
   },
   "source": [
    "One of the issues in ABC is _the curse of the dimensionality_ when using more than a few summary statistics.\n",
    "If summary statistics are uncorrelated, using the above distance, we will reject many simulations with increasing number of summary statistics.\n",
    "\n",
    "Solutions have been proposed in order to\n",
    "1. use a wider acceptance tolerance\n",
    "2. perform a better sampling from the prior."
   ]
  },
  {
   "cell_type": "markdown",
   "metadata": {
    "slideshow": {
     "slide_type": "slide"
    }
   },
   "source": [
    "### Regression-based estimation\n",
    "\n",
    "Local linear regression is used to derive the posterior distribution using ABC, to obtain a potentially wider set of accepted points.\n",
    "\n",
    "<img src=\"Images/ABC.png\" width=\"500\" height=\"500\" />"
   ]
  },
  {
   "cell_type": "markdown",
   "metadata": {
    "slideshow": {
     "slide_type": "notes"
    }
   },
   "source": [
    "The algorithm is the following:\n",
    "* Given observation $y$ repeat the following until $M$ points have been generated:\n",
    "  * Draw $\\theta_i \\sim \\pi(\\theta)$\n",
    "  * Simulate $x_i \\sim f(x|\\theta_i)$\n",
    "* Calculate $S_j(x)$ for all $j$ and $k_j$, the empirical standard deviation of $S_j(x)$\n",
    "* $\\rho(S(x),S(y)):\\sqrt[]{\\sum_{j=1}^s ( \\frac{S_j(x)}{k_j} - \\frac{S_j(y)}{k_j} )^2 }$\n",
    "* Choose tolerance $\\epsilon$ such that the proportion of accepted points $P_\\epsilon=\\frac{N}{M}$\n",
    "* Weight the simulated points $S(x_i)$ using $K_\\epsilon(\\rho(S(x_i),S(y)))$ where\n",
    "\\begin{align}\n",
    "    K_\\epsilon(t) &= \\epsilon^{-1}(1-(t/\\epsilon)^2) & \\text{for } t \\leq \\epsilon \\\\\n",
    "    K_\\epsilon(t) &= 0 & \\text{for } t > \\epsilon\n",
    "\\end{align}\n",
    "* Apply weighted linear regression to the $N$ points that have nonzero weight to obtain an estimate of $\\hat{E}(\\theta|S(x))$\n",
    "* Adjust $\\theta_i^*=\\theta_i-\\hat{E}(\\theta|S(x))+\\hat{E}(\\theta|S(y))$\n",
    "* The $\\theta_i^*$ with weights $K_\\epsilon(\\rho(S(x_i),S(y)))$ are random draws from an approximation of the posterior distribution $P(\\theta|y)$."
   ]
  },
  {
   "cell_type": "markdown",
   "metadata": {
    "slideshow": {
     "slide_type": "notes"
    }
   },
   "source": [
    "There are problems with regression-based methods too.\n",
    "When the observed summary statistics lies outside the unknown likelihood distribution (model misspecification), then regression is an extrapolation rather than an interpolation.\n",
    "In these cases posterior draws (after regression adjustments) can be outside the prior range.\n",
    "This problem occurs when the observations lie at the boundaries of the unknown likelihood (called prior-predictive distribution in the ABC context)."
   ]
  },
  {
   "cell_type": "markdown",
   "metadata": {
    "slideshow": {
     "slide_type": "notes"
    }
   },
   "source": [
    "To increase the performance of ABC estimation we can do a better sampling.\n",
    "Indeed, the great majority of simulated parameter values may not give rise to summary statistics that are similar enough to the observed data.\n",
    "Efficiency will be slow as many points will be rejected or given negligible weight.\n",
    "We therefore want a procedure whereby parameters are sampled from a distribution that is closer to the posterior than from the prior.\n",
    "There are two main ways to do this, one via Markov Chain Monte Carlo (MCMC) and Sequential Monte Carlo (SMC) sampling."
   ]
  },
  {
   "cell_type": "markdown",
   "metadata": {
    "slideshow": {
     "slide_type": "slide"
    }
   },
   "source": [
    "### MCMC-ABC\n",
    "\n",
    "Initialise by sampling $\\theta^{(0)} \\sim \\pi(\\theta)$. At iteration $t \\geq 1$:\n",
    "* Simulate $\\theta' \\sim K(\\theta|\\theta^{(t-1)})$ where $K(\\cdot)$ is a proposal distribution that depends on the current value of $\\theta$\n",
    "* Simulate $x \\sim p(x|\\theta')$.\n",
    "* If $\\rho(S(x),S(y))<\\epsilon$ (rejection step),\n",
    "    * $u \\sim U(0,1),$\n",
    "    * if $u \\leq \\pi(\\theta')/\\pi(\\theta^{(t-1)}) \\times K(\\theta^{(t-1)}|\\theta')/K(\\theta'|\\theta^{(t-1)})$, update $\\theta{(t)}=\\theta'$, otherwise $\\theta{(t)}=\\theta^{(t-1)}$;\n",
    "* otherwise $\\theta{(t)}=\\theta^{(t-1)}$."
   ]
  },
  {
   "cell_type": "markdown",
   "metadata": {
    "slideshow": {
     "slide_type": "subslide"
    }
   },
   "source": [
    "A good proposal distribution should resemble the actual posterior distribution of the parameters.\n",
    "A Normal proposal distribution often works well in practice, centred in $\\theta^{(t-1)}$.\n",
    "This is also called the _jumping_ distribution.\n",
    "In this algorithm, at convergence the average distribution of proposed $\\theta'$ is dominated by the posterior itself.\n",
    "\n",
    "It is also possible to apply any regression-adjustment methods on the MCMC sample to obtain more accurate estimates.\n",
    "Compared to the classic MCMC with likelihoods, this algorithm has higher rejection rate.\n",
    "To circumvent this problem, the tolerance $\\epsilon$ can be initially high and then reduced during the burn-in phase.\n",
    "\n",
    "It was later proposed a method called Sequential Monte Carlo (SMC) for iteratively improving on an ABC approximation.\n",
    "This approach consisted of two main features: (i) weighted resampling from the set of points already drawn and (ii) successive reduction in the tolerance $\\epsilon$."
   ]
  },
  {
   "cell_type": "markdown",
   "metadata": {
    "slideshow": {
     "slide_type": "slide"
    }
   },
   "source": [
    "#### Model choice\n",
    "\n",
    "Given a series of model $\\mu_1, \\mu_2, ..., \\mu_N$ with prior probabilities $\\sum_i \\pi(\\mu_i)=1$, we can calculate Bayes factors between two models $i$ and $j$ as\n",
    "\\begin{equation}\n",
    "    \\frac{p(\\mu_i|x)}{p(\\mu_j|x)} \\div \\frac{p(\\mu_i)}{p(\\mu_j)}  \n",
    "\\end{equation}"
   ]
  },
  {
   "cell_type": "markdown",
   "metadata": {
    "slideshow": {
     "slide_type": "notes"
    }
   },
   "source": [
    "Typically, Bayes factors can be computed only if the parameters within the models have priors that integrate to one.\n",
    "Therefore, Bayesian model choice can be strongly affected by the prior.\n",
    "Notably, Bayesian model choice automatically penalised models with many parameters.\n",
    "As such, one does not need to account for different number of parameters between models."
   ]
  },
  {
   "cell_type": "markdown",
   "metadata": {
    "slideshow": {
     "slide_type": "notes"
    }
   },
   "source": [
    "#### Hierarchical model\n",
    "\n",
    "ABC can also be adopted in a hierarchical Bayesian model.\n",
    "A potential difficulty here is that summary statistics should capture information from each unit so that the hyperparameters can be well inferred.\n",
    "However, if there are many summary statistics it is unlikely that simulated data will closely match the observations."
   ]
  },
  {
   "cell_type": "markdown",
   "metadata": {
    "slideshow": {
     "slide_type": "slide"
    }
   },
   "source": [
    "#### Choice of summary statistics\n",
    "\n",
    "<img src=\"Images/LucyBlanket.jpg\" width=\"400\" height=\"400\" />"
   ]
  },
  {
   "cell_type": "markdown",
   "metadata": {
    "slideshow": {
     "slide_type": "notes"
    }
   },
   "source": [
    "A very much arbitrary area of ABC modelling lies in the choice of summary statistics.\n",
    "In some fields, there is a history of relating summary statistics to model parameters.\n",
    "In general, there is no need of a strong theory relating summary statistics to model parameters.\n",
    "One issue here is the effect of summary statistics on inferences and whether some choices may bias the outcome of model choice.\n",
    "This may happen if chosen summary statistics have little relation to parameters in other models.\n",
    "Typically, some summary statistics may cover some aspects of the model while other statistics may cover different aspects, making the choice of a finite set of informative units problematic.\n",
    "\n",
    "The main idea is that as more summary statistics are used, then they should be jointly sufficient for the likelihood.\n",
    "Also, summary statistics may be correlated to each other and to the parameters.\n",
    "However, the accuracy and stability of ABC decreases rapidly with increasing numbers of summary statistics.\n",
    "\n",
    "How can we choose the optimal set of summary statistics?"
   ]
  },
  {
   "cell_type": "markdown",
   "metadata": {
    "slideshow": {
     "slide_type": "slide"
    }
   },
   "source": [
    "* One could calculate the ratio of posterior density with or without a particular summary statistic. Departures greater than a threshold are suggestive that the excluded summary statistic is important.\n",
    "* Different summary statistics can be weighted differently according to their correlation with some model parameters.\n",
    "* The number of summary statistics can also be reduced via multivariate dimensional scaling summary statistics should be scaled in order to have equal mean and variance, if normally distributed.\n",
    "* Even if there is no need of a strong theory relating summary statistics to model parameters, it is suitable to have some expectations."
   ]
  },
  {
   "cell_type": "markdown",
   "metadata": {
    "slideshow": {
     "slide_type": "slide"
    }
   },
   "source": [
    "#### Model validation\n",
    "\n",
    "Validation is the assessment of goodness-of-fit of the model to distinguish errors due to the approximation from errors caused by the choice of the model.\n",
    "\n",
    "1. The distributions of simulated summary statistics are visualised and compared to the corresponding target statistic. If the target is outside, then this could be a problem in the model.\n",
    "2. The observations are compared with the posterior predictive distribution. This can be done by simulating data with parameters drawn randomly from the current posterior distribution."
   ]
  },
  {
   "cell_type": "markdown",
   "metadata": {
    "slideshow": {
     "slide_type": "slide"
    }
   },
   "source": [
    "### Applications of ABC in evolution"
   ]
  },
  {
   "cell_type": "markdown",
   "metadata": {
    "slideshow": {
     "slide_type": "notes"
    }
   },
   "source": [
    "The initial applications of ABC have been mainly in population genetics, using a rejection or regression algorithm.\n",
    "Later on, a number of other areas in ecology, epidemiology and systems biology have seen an increase in the use ABC.\n",
    "The more recent applications use MCMC or SMC algorithms.\n",
    "\n",
    "In population genetics, the data consists of frequencies of alleles or haplotypes in one or more populations.\n",
    "The goal is usually to estimate the demographic history of populations in terms of changes of population sizes, divergence times, migration rates, and so on.\n",
    "A number of studies on inferring human evolution have been using ABC methods."
   ]
  },
  {
   "cell_type": "markdown",
   "metadata": {
    "slideshow": {
     "slide_type": "fragment"
    }
   },
   "source": [
    "Patin et al. (2009) compared different demographic models that explain the genetic differentiation within different African populations.\n",
    "<img src=\"Images/Patin1.png\" width=\"400\" height=\"400\" />"
   ]
  },
  {
   "cell_type": "markdown",
   "metadata": {
    "slideshow": {
     "slide_type": "subslide"
    }
   },
   "source": [
    "<img src=\"Images/Patin2.png\" width=\"600\" height=\"600\" />"
   ]
  },
  {
   "cell_type": "markdown",
   "metadata": {
    "slideshow": {
     "slide_type": "slide"
    }
   },
   "source": [
    "### Applications of ABC in ecology"
   ]
  },
  {
   "cell_type": "markdown",
   "metadata": {
    "slideshow": {
     "slide_type": "notes"
    }
   },
   "source": [
    "Some features of ecology, epidemiology and systems biology appear to be very similar.\n",
    "Many aspects are captured by systems of partial or ordinary differential equations or stochastic differential equations.\n",
    "Data often consist of time series and/or spatial data.\n",
    "The goal here is to compare between hypothesised models that could explain the observed patterns and to infer parameters."
   ]
  },
  {
   "cell_type": "markdown",
   "metadata": {
    "slideshow": {
     "slide_type": "fragment"
    }
   },
   "source": [
    "Toni et al. (2009) provide an example using a Lotka-Volterra system on prey-predator dynamics from time series data on abundances.\n",
    "<img src=\"Images/Toni.png\" width=\"600\" height=\"600\" />"
   ]
  },
  {
   "cell_type": "markdown",
   "metadata": {
    "slideshow": {
     "slide_type": "notes"
    }
   },
   "source": [
    "ABC has also been used for agent-based models, protein interaction networks, speciation rates under a neutral ecological model, extinction rates from phylogenetic data, epidemiology (e.g. transmission)."
   ]
  },
  {
   "cell_type": "markdown",
   "metadata": {
    "slideshow": {
     "slide_type": "slide"
    }
   },
   "source": [
    "* When a likelihood function is known and can be efficiently evaluated, then there is not advantage to use ABC.\n",
    "* When the likelihood function is known but difficult to evaluate in practise, the ABC is a valid option.\n",
    "* Many scenarios in evolutionary biology or ecology can be generated by simulations.\n",
    "* ABC can be useful for initial exploratory phase."
   ]
  },
  {
   "cell_type": "markdown",
   "metadata": {
    "slideshow": {
     "slide_type": "slide"
    }
   },
   "source": [
    "### Intended Learning Outcomes\n",
    "\n",
    "At the end of this part you are now be able to:\n",
    "* appreciate the applicability of ABC,\n",
    "* describe the rejection algorithm,\n",
    "* critically discuss the choice of summary statistics,\n",
    "* implement ABC methods."
   ]
  }
 ],
 "metadata": {
  "celltoolbar": "Slideshow",
  "kernelspec": {
   "display_name": "R",
   "language": "R",
   "name": "ir"
  },
  "language_info": {
   "codemirror_mode": "r",
   "file_extension": ".r",
   "mimetype": "text/x-r-source",
   "name": "R",
   "pygments_lexer": "r",
   "version": "4.0.4"
  }
 },
 "nbformat": 4,
 "nbformat_minor": 2
}
