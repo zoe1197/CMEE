{
 "cells": [
  {
   "cell_type": "markdown",
   "metadata": {},
   "source": [
    "# Birds"
   ]
  },
  {
   "cell_type": "markdown",
   "metadata": {},
   "source": [
    "## Question A\n",
    "propose the suitable prior distribution on the parameter beak width\n",
    "\n",
    "|     |**P(F)**| **P(M)**|\n",
    "| ----|----|-----|\n",
    "|     |$$\\frac{3}{5}$$ |$$\\frac{2}{5}$$|\n",
    "|**Width**|25mm|12mm |\n",
    "\n",
    "**Answer**:\n",
    "\n",
    "$ P($$\\theta$$=25mm)= $$\\frac{3}{5}$$ $ \n",
    "\n",
    "$ P($$\\theta$$=12mm)= $$\\frac{2}{5}$$ $\n"
   ]
  },
  {
   "cell_type": "markdown",
   "metadata": {},
   "source": [
    "## Question B\n",
    "What are the appropriate values of $\\mu$ and $\\sigma^2$?\n",
    "\n",
    "For female birds only; \n",
    "\n",
    "parameter: the beak width $ \\theta $;\n",
    "\n",
    "collect $ n = 10 $ sample, data follow the normall distribution $N(\\theta|\\mu, \\sigma^2)$ with $\\mu = 25$, $\\sigma^2 = 5$;\n",
    "\n",
    "**Answer**:\n"
   ]
  },
  {
   "cell_type": "markdown",
   "metadata": {},
   "source": [
    "## Question C\n",
    "derive the posterior distribution for $\\theta$\n",
    "\n",
    "\n",
    "**Answer**"
   ]
  },
  {
   "cell_type": "markdown",
   "metadata": {},
   "source": [
    "## Question D\n",
    "study another character: beak length $\\theta_2$ which is correlated with the beak width $\\theta_1$;\n",
    "\n",
    "now $\\vec{\\theta}$ = {$\\theta_1, \\theta_2$}\n",
    "\n",
    "**Answer**\n"
   ]
  },
  {
   "cell_type": "markdown",
   "metadata": {},
   "source": [
    "# Frogs\n"
   ]
  },
  {
   "cell_type": "markdown",
   "metadata": {},
   "source": [
    "## Question A\n"
   ]
  }
 ],
 "metadata": {
  "kernelspec": {
   "display_name": "R",
   "language": "R",
   "name": "ir"
  },
  "language_info": {
   "codemirror_mode": "r",
   "file_extension": ".r",
   "mimetype": "text/x-r-source",
   "name": "R",
   "pygments_lexer": "r",
   "version": "4.0.4"
  }
 },
 "nbformat": 4,
 "nbformat_minor": 4
}
