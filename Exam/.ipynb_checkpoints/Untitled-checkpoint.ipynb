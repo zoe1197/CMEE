{
 "cells": [
  {
   "cell_type": "markdown",
   "metadata": {},
   "source": [
    "# Basic calculations in matrix "
   ]
  },
  {
   "cell_type": "markdown",
   "metadata": {},
   "source": [
    "\n",
    "a%*%b\n",
    "det()\n",
    "eigen()\n",
    "slove() #inverse\n",
    "t() #transpose\n",
    "\n",
    "\n",
    "require(matrixcalc) #power of metrix\n",
    "M <- matrix(c(2/3,1/3,1/2,1/2),nrow = 2)\n",
    "P0 <- matrix(c(1,0),nrow = 2) \n",
    "multi <- function(t){\n",
    "\treturn(matrix.power(M,k = t) %*% P0)\n",
    "}\n",
    "P1 <- multi(1)\n",
    "P2 <- multi(2)\n",
    "P3 <- multi(3)\n",
    "P100 <- multi(100)"
   ]
  }
 ],
 "metadata": {
  "kernelspec": {
   "display_name": "R",
   "language": "R",
   "name": "ir"
  },
  "language_info": {
   "codemirror_mode": "r",
   "file_extension": ".r",
   "mimetype": "text/x-r-source",
   "name": "R",
   "pygments_lexer": "r",
   "version": "4.0.4"
  }
 },
 "nbformat": 4,
 "nbformat_minor": 4
}
