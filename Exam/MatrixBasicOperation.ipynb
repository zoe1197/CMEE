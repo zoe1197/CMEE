{
 "cells": [
  {
   "cell_type": "markdown",
   "metadata": {},
   "source": [
    "# Basic calculations in matrix "
   ]
  },
  {
   "cell_type": "code",
   "execution_count": 10,
   "metadata": {},
   "outputs": [
    {
     "data": {
      "text/html": [
       "<table class=\"dataframe\">\n",
       "<caption>A matrix: 2 × 2 of type dbl</caption>\n",
       "<tbody>\n",
       "\t<tr><td>0</td><td>-1</td></tr>\n",
       "\t<tr><td>1</td><td> 0</td></tr>\n",
       "</tbody>\n",
       "</table>\n"
      ],
      "text/latex": [
       "A matrix: 2 × 2 of type dbl\n",
       "\\begin{tabular}{ll}\n",
       "\t 0 & -1\\\\\n",
       "\t 1 &  0\\\\\n",
       "\\end{tabular}\n"
      ],
      "text/markdown": [
       "\n",
       "A matrix: 2 × 2 of type dbl\n",
       "\n",
       "| 0 | -1 |\n",
       "| 1 |  0 |\n",
       "\n"
      ],
      "text/plain": [
       "     [,1] [,2]\n",
       "[1,] 0    -1  \n",
       "[2,] 1     0  "
      ]
     },
     "metadata": {},
     "output_type": "display_data"
    },
    {
     "data": {
      "text/html": [
       "<table class=\"dataframe\">\n",
       "<caption>A matrix: 2 × 2 of type dbl</caption>\n",
       "<tbody>\n",
       "\t<tr><td>1</td><td>0</td></tr>\n",
       "\t<tr><td>0</td><td>1</td></tr>\n",
       "</tbody>\n",
       "</table>\n"
      ],
      "text/latex": [
       "A matrix: 2 × 2 of type dbl\n",
       "\\begin{tabular}{ll}\n",
       "\t 1 & 0\\\\\n",
       "\t 0 & 1\\\\\n",
       "\\end{tabular}\n"
      ],
      "text/markdown": [
       "\n",
       "A matrix: 2 × 2 of type dbl\n",
       "\n",
       "| 1 | 0 |\n",
       "| 0 | 1 |\n",
       "\n"
      ],
      "text/plain": [
       "     [,1] [,2]\n",
       "[1,] 1    0   \n",
       "[2,] 0    1   "
      ]
     },
     "metadata": {},
     "output_type": "display_data"
    },
    {
     "data": {
      "text/html": [
       "1"
      ],
      "text/latex": [
       "1"
      ],
      "text/markdown": [
       "1"
      ],
      "text/plain": [
       "[1] 1"
      ]
     },
     "metadata": {},
     "output_type": "display_data"
    },
    {
     "data": {
      "text/plain": [
       "eigen() decomposition\n",
       "$values\n",
       "[1] 0+1i 0-1i\n",
       "\n",
       "$vectors\n",
       "                     [,1]                 [,2]\n",
       "[1,] 0.7071068+0.0000000i 0.7071068+0.0000000i\n",
       "[2,] 0.0000000+0.7071068i 0.0000000-0.7071068i\n"
      ]
     },
     "metadata": {},
     "output_type": "display_data"
    },
    {
     "data": {
      "text/html": [
       "<table class=\"dataframe\">\n",
       "<caption>A matrix: 2 × 2 of type dbl</caption>\n",
       "<tbody>\n",
       "\t<tr><td>0</td><td>-1</td></tr>\n",
       "\t<tr><td>1</td><td> 0</td></tr>\n",
       "</tbody>\n",
       "</table>\n"
      ],
      "text/latex": [
       "A matrix: 2 × 2 of type dbl\n",
       "\\begin{tabular}{ll}\n",
       "\t 0 & -1\\\\\n",
       "\t 1 &  0\\\\\n",
       "\\end{tabular}\n"
      ],
      "text/markdown": [
       "\n",
       "A matrix: 2 × 2 of type dbl\n",
       "\n",
       "| 0 | -1 |\n",
       "| 1 |  0 |\n",
       "\n"
      ],
      "text/plain": [
       "     [,1] [,2]\n",
       "[1,] 0    -1  \n",
       "[2,] 1     0  "
      ]
     },
     "metadata": {},
     "output_type": "display_data"
    }
   ],
   "source": [
    "A <- matrix(c(0,-1,1,0), nrow =2)\n",
    "B <- solve(A)\n",
    "B\n",
    "A%*%B\n",
    "det(A) \n",
    "eigen(A)\n",
    "t(A) #transpose"
   ]
  },
  {
   "cell_type": "code",
   "execution_count": 12,
   "metadata": {},
   "outputs": [
    {
     "data": {
      "text/html": [
       "<table class=\"dataframe\">\n",
       "<caption>A matrix: 2 × 2 of type dbl</caption>\n",
       "<tbody>\n",
       "\t<tr><td>0.25</td><td>0.5</td></tr>\n",
       "\t<tr><td>0.75</td><td>0.5</td></tr>\n",
       "</tbody>\n",
       "</table>\n"
      ],
      "text/latex": [
       "A matrix: 2 × 2 of type dbl\n",
       "\\begin{tabular}{ll}\n",
       "\t 0.25 & 0.5\\\\\n",
       "\t 0.75 & 0.5\\\\\n",
       "\\end{tabular}\n"
      ],
      "text/markdown": [
       "\n",
       "A matrix: 2 × 2 of type dbl\n",
       "\n",
       "| 0.25 | 0.5 |\n",
       "| 0.75 | 0.5 |\n",
       "\n"
      ],
      "text/plain": [
       "     [,1] [,2]\n",
       "[1,] 0.25 0.5 \n",
       "[2,] 0.75 0.5 "
      ]
     },
     "metadata": {},
     "output_type": "display_data"
    },
    {
     "data": {
      "text/html": [
       "<table class=\"dataframe\">\n",
       "<caption>A matrix: 2 × 2 of type dbl</caption>\n",
       "<tbody>\n",
       "\t<tr><td>0.4375</td><td>0.375</td></tr>\n",
       "\t<tr><td>0.5625</td><td>0.625</td></tr>\n",
       "</tbody>\n",
       "</table>\n"
      ],
      "text/latex": [
       "A matrix: 2 × 2 of type dbl\n",
       "\\begin{tabular}{ll}\n",
       "\t 0.4375 & 0.375\\\\\n",
       "\t 0.5625 & 0.625\\\\\n",
       "\\end{tabular}\n"
      ],
      "text/markdown": [
       "\n",
       "A matrix: 2 × 2 of type dbl\n",
       "\n",
       "| 0.4375 | 0.375 |\n",
       "| 0.5625 | 0.625 |\n",
       "\n"
      ],
      "text/plain": [
       "     [,1]   [,2] \n",
       "[1,] 0.4375 0.375\n",
       "[2,] 0.5625 0.625"
      ]
     },
     "metadata": {},
     "output_type": "display_data"
    },
    {
     "data": {
      "text/html": [
       "<table class=\"dataframe\">\n",
       "<caption>A matrix: 2 × 2 of type dbl</caption>\n",
       "<tbody>\n",
       "\t<tr><td>0.390625</td><td>0.40625</td></tr>\n",
       "\t<tr><td>0.609375</td><td>0.59375</td></tr>\n",
       "</tbody>\n",
       "</table>\n"
      ],
      "text/latex": [
       "A matrix: 2 × 2 of type dbl\n",
       "\\begin{tabular}{ll}\n",
       "\t 0.390625 & 0.40625\\\\\n",
       "\t 0.609375 & 0.59375\\\\\n",
       "\\end{tabular}\n"
      ],
      "text/markdown": [
       "\n",
       "A matrix: 2 × 2 of type dbl\n",
       "\n",
       "| 0.390625 | 0.40625 |\n",
       "| 0.609375 | 0.59375 |\n",
       "\n"
      ],
      "text/plain": [
       "     [,1]     [,2]   \n",
       "[1,] 0.390625 0.40625\n",
       "[2,] 0.609375 0.59375"
      ]
     },
     "metadata": {},
     "output_type": "display_data"
    },
    {
     "data": {
      "text/html": [
       "<table class=\"dataframe\">\n",
       "<caption>A matrix: 2 × 2 of type dbl</caption>\n",
       "<tbody>\n",
       "\t<tr><td>0.4023438</td><td>0.3984375</td></tr>\n",
       "\t<tr><td>0.5976562</td><td>0.6015625</td></tr>\n",
       "</tbody>\n",
       "</table>\n"
      ],
      "text/latex": [
       "A matrix: 2 × 2 of type dbl\n",
       "\\begin{tabular}{ll}\n",
       "\t 0.4023438 & 0.3984375\\\\\n",
       "\t 0.5976562 & 0.6015625\\\\\n",
       "\\end{tabular}\n"
      ],
      "text/markdown": [
       "\n",
       "A matrix: 2 × 2 of type dbl\n",
       "\n",
       "| 0.4023438 | 0.3984375 |\n",
       "| 0.5976562 | 0.6015625 |\n",
       "\n"
      ],
      "text/plain": [
       "     [,1]      [,2]     \n",
       "[1,] 0.4023438 0.3984375\n",
       "[2,] 0.5976562 0.6015625"
      ]
     },
     "metadata": {},
     "output_type": "display_data"
    },
    {
     "data": {
      "text/html": [
       "<table class=\"dataframe\">\n",
       "<caption>A matrix: 2 × 2 of type dbl</caption>\n",
       "<tbody>\n",
       "\t<tr><td>0.3994141</td><td>0.4003906</td></tr>\n",
       "\t<tr><td>0.6005859</td><td>0.5996094</td></tr>\n",
       "</tbody>\n",
       "</table>\n"
      ],
      "text/latex": [
       "A matrix: 2 × 2 of type dbl\n",
       "\\begin{tabular}{ll}\n",
       "\t 0.3994141 & 0.4003906\\\\\n",
       "\t 0.6005859 & 0.5996094\\\\\n",
       "\\end{tabular}\n"
      ],
      "text/markdown": [
       "\n",
       "A matrix: 2 × 2 of type dbl\n",
       "\n",
       "| 0.3994141 | 0.4003906 |\n",
       "| 0.6005859 | 0.5996094 |\n",
       "\n"
      ],
      "text/plain": [
       "     [,1]      [,2]     \n",
       "[1,] 0.3994141 0.4003906\n",
       "[2,] 0.6005859 0.5996094"
      ]
     },
     "metadata": {},
     "output_type": "display_data"
    },
    {
     "data": {
      "text/html": [
       "<table class=\"dataframe\">\n",
       "<caption>A matrix: 2 × 2 of type dbl</caption>\n",
       "<tbody>\n",
       "\t<tr><td>0.4001465</td><td>0.3999023</td></tr>\n",
       "\t<tr><td>0.5998535</td><td>0.6000977</td></tr>\n",
       "</tbody>\n",
       "</table>\n"
      ],
      "text/latex": [
       "A matrix: 2 × 2 of type dbl\n",
       "\\begin{tabular}{ll}\n",
       "\t 0.4001465 & 0.3999023\\\\\n",
       "\t 0.5998535 & 0.6000977\\\\\n",
       "\\end{tabular}\n"
      ],
      "text/markdown": [
       "\n",
       "A matrix: 2 × 2 of type dbl\n",
       "\n",
       "| 0.4001465 | 0.3999023 |\n",
       "| 0.5998535 | 0.6000977 |\n",
       "\n"
      ],
      "text/plain": [
       "     [,1]      [,2]     \n",
       "[1,] 0.4001465 0.3999023\n",
       "[2,] 0.5998535 0.6000977"
      ]
     },
     "metadata": {},
     "output_type": "display_data"
    },
    {
     "data": {
      "text/html": [
       "<table class=\"dataframe\">\n",
       "<caption>A matrix: 2 × 2 of type dbl</caption>\n",
       "<tbody>\n",
       "\t<tr><td>0.4</td><td>0.4</td></tr>\n",
       "\t<tr><td>0.6</td><td>0.6</td></tr>\n",
       "</tbody>\n",
       "</table>\n"
      ],
      "text/latex": [
       "A matrix: 2 × 2 of type dbl\n",
       "\\begin{tabular}{ll}\n",
       "\t 0.4 & 0.4\\\\\n",
       "\t 0.6 & 0.6\\\\\n",
       "\\end{tabular}\n"
      ],
      "text/markdown": [
       "\n",
       "A matrix: 2 × 2 of type dbl\n",
       "\n",
       "| 0.4 | 0.4 |\n",
       "| 0.6 | 0.6 |\n",
       "\n"
      ],
      "text/plain": [
       "     [,1] [,2]\n",
       "[1,] 0.4  0.4 \n",
       "[2,] 0.6  0.6 "
      ]
     },
     "metadata": {},
     "output_type": "display_data"
    }
   ],
   "source": [
    "A <- matrix(c(1/4,3/4,1/2,1/2), nrow = 2)\n",
    "\n",
    "matrix.power(A, 1)\n",
    "matrix.power(A, 2)\n",
    "matrix.power(A, 3)\n",
    "matrix.power(A, 4)\n",
    "matrix.power(A, 5)\n",
    "matrix.power(A, 6)\n",
    "matrix.power(A, 100)"
   ]
  },
  {
   "cell_type": "code",
   "execution_count": 7,
   "metadata": {},
   "outputs": [
    {
     "data": {
      "text/html": [
       "<table class=\"dataframe\">\n",
       "<caption>A matrix: 2 × 2 of type dbl</caption>\n",
       "<tbody>\n",
       "\t<tr><td>0.6666667</td><td>0.5</td></tr>\n",
       "\t<tr><td>0.3333333</td><td>0.5</td></tr>\n",
       "</tbody>\n",
       "</table>\n"
      ],
      "text/latex": [
       "A matrix: 2 × 2 of type dbl\n",
       "\\begin{tabular}{ll}\n",
       "\t 0.6666667 & 0.5\\\\\n",
       "\t 0.3333333 & 0.5\\\\\n",
       "\\end{tabular}\n"
      ],
      "text/markdown": [
       "\n",
       "A matrix: 2 × 2 of type dbl\n",
       "\n",
       "| 0.6666667 | 0.5 |\n",
       "| 0.3333333 | 0.5 |\n",
       "\n"
      ],
      "text/plain": [
       "     [,1]      [,2]\n",
       "[1,] 0.6666667 0.5 \n",
       "[2,] 0.3333333 0.5 "
      ]
     },
     "metadata": {},
     "output_type": "display_data"
    },
    {
     "data": {
      "text/html": [
       "<table class=\"dataframe\">\n",
       "<caption>A matrix: 2 × 2 of type dbl</caption>\n",
       "<tbody>\n",
       "\t<tr><td>0.6111111</td><td>0.5833333</td></tr>\n",
       "\t<tr><td>0.3888889</td><td>0.4166667</td></tr>\n",
       "</tbody>\n",
       "</table>\n"
      ],
      "text/latex": [
       "A matrix: 2 × 2 of type dbl\n",
       "\\begin{tabular}{ll}\n",
       "\t 0.6111111 & 0.5833333\\\\\n",
       "\t 0.3888889 & 0.4166667\\\\\n",
       "\\end{tabular}\n"
      ],
      "text/markdown": [
       "\n",
       "A matrix: 2 × 2 of type dbl\n",
       "\n",
       "| 0.6111111 | 0.5833333 |\n",
       "| 0.3888889 | 0.4166667 |\n",
       "\n"
      ],
      "text/plain": [
       "     [,1]      [,2]     \n",
       "[1,] 0.6111111 0.5833333\n",
       "[2,] 0.3888889 0.4166667"
      ]
     },
     "metadata": {},
     "output_type": "display_data"
    },
    {
     "data": {
      "text/html": [
       "<table class=\"dataframe\">\n",
       "<caption>A matrix: 2 × 2 of type dbl</caption>\n",
       "<tbody>\n",
       "\t<tr><td>0.6018519</td><td>0.5972222</td></tr>\n",
       "\t<tr><td>0.3981481</td><td>0.4027778</td></tr>\n",
       "</tbody>\n",
       "</table>\n"
      ],
      "text/latex": [
       "A matrix: 2 × 2 of type dbl\n",
       "\\begin{tabular}{ll}\n",
       "\t 0.6018519 & 0.5972222\\\\\n",
       "\t 0.3981481 & 0.4027778\\\\\n",
       "\\end{tabular}\n"
      ],
      "text/markdown": [
       "\n",
       "A matrix: 2 × 2 of type dbl\n",
       "\n",
       "| 0.6018519 | 0.5972222 |\n",
       "| 0.3981481 | 0.4027778 |\n",
       "\n"
      ],
      "text/plain": [
       "     [,1]      [,2]     \n",
       "[1,] 0.6018519 0.5972222\n",
       "[2,] 0.3981481 0.4027778"
      ]
     },
     "metadata": {},
     "output_type": "display_data"
    },
    {
     "data": {
      "text/html": [
       "<table class=\"dataframe\">\n",
       "<caption>A matrix: 2 × 2 of type dbl</caption>\n",
       "<tbody>\n",
       "\t<tr><td>0.6003086</td><td>0.599537</td></tr>\n",
       "\t<tr><td>0.3996914</td><td>0.400463</td></tr>\n",
       "</tbody>\n",
       "</table>\n"
      ],
      "text/latex": [
       "A matrix: 2 × 2 of type dbl\n",
       "\\begin{tabular}{ll}\n",
       "\t 0.6003086 & 0.599537\\\\\n",
       "\t 0.3996914 & 0.400463\\\\\n",
       "\\end{tabular}\n"
      ],
      "text/markdown": [
       "\n",
       "A matrix: 2 × 2 of type dbl\n",
       "\n",
       "| 0.6003086 | 0.599537 |\n",
       "| 0.3996914 | 0.400463 |\n",
       "\n"
      ],
      "text/plain": [
       "     [,1]      [,2]    \n",
       "[1,] 0.6003086 0.599537\n",
       "[2,] 0.3996914 0.400463"
      ]
     },
     "metadata": {},
     "output_type": "display_data"
    },
    {
     "data": {
      "text/html": [
       "<table class=\"dataframe\">\n",
       "<caption>A matrix: 2 × 2 of type dbl</caption>\n",
       "<tbody>\n",
       "\t<tr><td>0.6000514</td><td>0.5999228</td></tr>\n",
       "\t<tr><td>0.3999486</td><td>0.4000772</td></tr>\n",
       "</tbody>\n",
       "</table>\n"
      ],
      "text/latex": [
       "A matrix: 2 × 2 of type dbl\n",
       "\\begin{tabular}{ll}\n",
       "\t 0.6000514 & 0.5999228\\\\\n",
       "\t 0.3999486 & 0.4000772\\\\\n",
       "\\end{tabular}\n"
      ],
      "text/markdown": [
       "\n",
       "A matrix: 2 × 2 of type dbl\n",
       "\n",
       "| 0.6000514 | 0.5999228 |\n",
       "| 0.3999486 | 0.4000772 |\n",
       "\n"
      ],
      "text/plain": [
       "     [,1]      [,2]     \n",
       "[1,] 0.6000514 0.5999228\n",
       "[2,] 0.3999486 0.4000772"
      ]
     },
     "metadata": {},
     "output_type": "display_data"
    },
    {
     "data": {
      "text/html": [
       "<table class=\"dataframe\">\n",
       "<caption>A matrix: 2 × 2 of type dbl</caption>\n",
       "<tbody>\n",
       "\t<tr><td>0.6000086</td><td>0.5999871</td></tr>\n",
       "\t<tr><td>0.3999914</td><td>0.4000129</td></tr>\n",
       "</tbody>\n",
       "</table>\n"
      ],
      "text/latex": [
       "A matrix: 2 × 2 of type dbl\n",
       "\\begin{tabular}{ll}\n",
       "\t 0.6000086 & 0.5999871\\\\\n",
       "\t 0.3999914 & 0.4000129\\\\\n",
       "\\end{tabular}\n"
      ],
      "text/markdown": [
       "\n",
       "A matrix: 2 × 2 of type dbl\n",
       "\n",
       "| 0.6000086 | 0.5999871 |\n",
       "| 0.3999914 | 0.4000129 |\n",
       "\n"
      ],
      "text/plain": [
       "     [,1]      [,2]     \n",
       "[1,] 0.6000086 0.5999871\n",
       "[2,] 0.3999914 0.4000129"
      ]
     },
     "metadata": {},
     "output_type": "display_data"
    },
    {
     "data": {
      "text/html": [
       "<table class=\"dataframe\">\n",
       "<caption>A matrix: 2 × 2 of type dbl</caption>\n",
       "<tbody>\n",
       "\t<tr><td>0.6</td><td>0.6</td></tr>\n",
       "\t<tr><td>0.4</td><td>0.4</td></tr>\n",
       "</tbody>\n",
       "</table>\n"
      ],
      "text/latex": [
       "A matrix: 2 × 2 of type dbl\n",
       "\\begin{tabular}{ll}\n",
       "\t 0.6 & 0.6\\\\\n",
       "\t 0.4 & 0.4\\\\\n",
       "\\end{tabular}\n"
      ],
      "text/markdown": [
       "\n",
       "A matrix: 2 × 2 of type dbl\n",
       "\n",
       "| 0.6 | 0.6 |\n",
       "| 0.4 | 0.4 |\n",
       "\n"
      ],
      "text/plain": [
       "     [,1] [,2]\n",
       "[1,] 0.6  0.6 \n",
       "[2,] 0.4  0.4 "
      ]
     },
     "metadata": {},
     "output_type": "display_data"
    },
    {
     "data": {
      "text/plain": [
       "eigen() decomposition\n",
       "$values\n",
       "[1] 1.0000000 0.1666667\n",
       "\n",
       "$vectors\n",
       "          [,1]       [,2]\n",
       "[1,] 0.8320503 -0.7071068\n",
       "[2,] 0.5547002  0.7071068\n"
      ]
     },
     "metadata": {},
     "output_type": "display_data"
    }
   ],
   "source": [
    "M <- matrix(c(2/3,1/3,1/2,1/2), nrow = 2)\n",
    "P <- matrix(c(1,0), nrow = 2)\n",
    "\n",
    "require(matrixcalc)  #power of metrix\n",
    "matrix.power(M, 1)\n",
    "matrix.power(M, 2)\n",
    "matrix.power(M, 3)\n",
    "matrix.power(M, 4)\n",
    "matrix.power(M, 5)\n",
    "matrix.power(M, 6)\n",
    "matrix.power(M, 100)\n",
    "eigen(M)"
   ]
  }
 ],
 "metadata": {
  "kernelspec": {
   "display_name": "R",
   "language": "R",
   "name": "ir"
  },
  "language_info": {
   "codemirror_mode": "r",
   "file_extension": ".r",
   "mimetype": "text/x-r-source",
   "name": "R",
   "pygments_lexer": "r",
   "version": "4.0.4"
  }
 },
 "nbformat": 4,
 "nbformat_minor": 4
}
