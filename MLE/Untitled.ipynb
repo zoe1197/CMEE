{
 "cells": [
  {
   "cell_type": "markdown",
   "metadata": {},
   "source": [
    "# Monday"
   ]
  },
  {
   "cell_type": "markdown",
   "metadata": {},
   "source": [
    "## Question 3"
   ]
  },
  {
   "cell_type": "markdown",
   "metadata": {},
   "source": [
    "### 2"
   ]
  },
  {
   "cell_type": "code",
   "execution_count": 2,
   "metadata": {},
   "outputs": [
    {
     "data": {
      "image/png": "[encoded data removed]",
      "text/plain": [
       "plot without title"
      ]
     },
     "metadata": {
      "image/png": {
       "height": 420,
       "width": 420
      }
     },
     "output_type": "display_data"
    }
   ],
   "source": [
    "x <- 0:10\n",
    "y <- dpois(x, lambda = 2)\n",
    "plot(x, y, pch = 16, ylab = 'PMF', xlab = 'Outcome(x)')"
   ]
  },
  {
   "cell_type": "markdown",
   "metadata": {},
   "source": [
    "### 3"
   ]
  },
  {
   "cell_type": "code",
   "execution_count": 3,
   "metadata": {},
   "outputs": [
    {
     "data": {
      "text/html": [
       "0.0902235221577418"
      ],
      "text/latex": [
       "0.0902235221577418"
      ],
      "text/markdown": [
       "0.0902235221577418"
      ],
      "text/plain": [
       "[1] 0.09022352"
      ]
     },
     "metadata": {},
     "output_type": "display_data"
    },
    {
     "data": {
      "text/html": [
       "0.0902235221577418"
      ],
      "text/latex": [
       "0.0902235221577418"
      ],
      "text/markdown": [
       "0.0902235221577418"
      ],
      "text/plain": [
       "[1] 0.09022352"
      ]
     },
     "metadata": {},
     "output_type": "display_data"
    },
    {
     "data": {
      "text/html": [
       "0.857123460498547"
      ],
      "text/latex": [
       "0.857123460498547"
      ],
      "text/markdown": [
       "0.857123460498547"
      ],
      "text/plain": [
       "[1] 0.8571235"
      ]
     },
     "metadata": {},
     "output_type": "display_data"
    },
    {
     "data": {
      "text/html": [
       "0.857123460498547"
      ],
      "text/latex": [
       "0.857123460498547"
      ],
      "text/markdown": [
       "0.857123460498547"
      ],
      "text/plain": [
       "[1] 0.8571235"
      ]
     },
     "metadata": {},
     "output_type": "display_data"
    },
    {
     "data": {
      "text/html": [
       "0.721788177261934"
      ],
      "text/latex": [
       "0.721788177261934"
      ],
      "text/markdown": [
       "0.721788177261934"
      ],
      "text/plain": [
       "[1] 0.7217882"
      ]
     },
     "metadata": {},
     "output_type": "display_data"
    }
   ],
   "source": [
    "# 1. Pr(x = 4)\n",
    "exp(-2)*2^4 / factorial(x = 4)\n",
    "dpois(x = 4,lambda = 2)\n",
    "# 2. Pr(x<=3)\n",
    "sum(dpois(0:3, lambda = 2))\n",
    "ppois(3, lambda = 2)\n",
    "exp(-2)*(2^3/factorial(3)+2^2/factorial(2)+2^1/factorial(1))"
   ]
  },
  {
   "cell_type": "code",
   "execution_count": null,
   "metadata": {},
   "outputs": [],
   "source": []
  }
 ],
 "metadata": {
  "kernelspec": {
   "display_name": "R",
   "language": "R",
   "name": "ir"
  },
  "language_info": {
   "codemirror_mode": "r",
   "file_extension": ".r",
   "mimetype": "text/x-r-source",
   "name": "R",
   "pygments_lexer": "r",
   "version": "4.0.4"
  }
 },
 "nbformat": 4,
 "nbformat_minor": 4
}
