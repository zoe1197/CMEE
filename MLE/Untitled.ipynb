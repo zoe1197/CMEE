{
 "cells": [
  {
   "cell_type": "markdown",
   "metadata": {},
   "source": [
    "# Monday/Tuesday\n"
   ]
  },
  {
   "cell_type": "code",
   "execution_count": 2,
   "metadata": {},
   "outputs": [
    {
     "data": {
      "image/png": "[encoded data removed]",
      "text/plain": [
       "plot without title"
      ]
     },
     "metadata": {
      "image/png": {
       "height": 420,
       "width": 420
      }
     },
     "output_type": "display_data"
    }
   ],
   "source": [
    "x <- 0:10\n",
    "y <- dpois(x, lambda = 2)\n",
    "plot(x, y, pch = 16, ylab = 'PMF', xlab = 'Outcome(x)')"
   ]
  },
  {
   "cell_type": "code",
   "execution_count": 7,
   "metadata": {},
   "outputs": [
    {
     "data": {
      "text/html": [
       "0.0902235221577418"
      ],
      "text/latex": [
       "0.0902235221577418"
      ],
      "text/markdown": [
       "0.0902235221577418"
      ],
      "text/plain": [
       "[1] 0.09022352"
      ]
     },
     "metadata": {},
     "output_type": "display_data"
    },
    {
     "data": {
      "text/html": [
       "0.0902235221577418"
      ],
      "text/latex": [
       "0.0902235221577418"
      ],
      "text/markdown": [
       "0.0902235221577418"
      ],
      "text/plain": [
       "[1] 0.09022352"
      ]
     },
     "metadata": {},
     "output_type": "display_data"
    },
    {
     "data": {
      "text/html": [
       "0.857123460498547"
      ],
      "text/latex": [
       "0.857123460498547"
      ],
      "text/markdown": [
       "0.857123460498547"
      ],
      "text/plain": [
       "[1] 0.8571235"
      ]
     },
     "metadata": {},
     "output_type": "display_data"
    },
    {
     "data": {
      "text/html": [
       "0.857123460498547"
      ],
      "text/latex": [
       "0.857123460498547"
      ],
      "text/markdown": [
       "0.857123460498547"
      ],
      "text/plain": [
       "[1] 0.8571235"
      ]
     },
     "metadata": {},
     "output_type": "display_data"
    },
    {
     "data": {
      "text/html": [
       "0.857123460498547"
      ],
      "text/latex": [
       "0.857123460498547"
      ],
      "text/markdown": [
       "0.857123460498547"
      ],
      "text/plain": [
       "[1] 0.8571235"
      ]
     },
     "metadata": {},
     "output_type": "display_data"
    },
    {
     "data": {
      "text/plain": [
       "0.8646647 with absolute error < 9.6e-15"
      ]
     },
     "metadata": {},
     "output_type": "display_data"
    }
   ],
   "source": [
    "# 1. Pr(x = 4)\n",
    "exp(-2)*2^4 / factorial(x = 4)\n",
    "dpois(x = 4,lambda = 2)\n",
    "# 2. Pr(x<=3)\n",
    "sum(dpois(0:3, lambda = 2))\n",
    "ppois(3, lambda = 2)\n",
    "exp(-2) * ((2^3)/factorial(3)+(2^2)/factorial(2)+(2^1)/factorial(1)+(2^0)/factorial(0))\n",
    "integrate(dexp, lower = 0, upper = 1, rate = 2)"
   ]
  },
  {
   "cell_type": "markdown",
   "metadata": {},
   "source": [
    "**r,d,p,q**"
   ]
  },
  {
   "cell_type": "code",
   "execution_count": 9,
   "metadata": {},
   "outputs": [
    {
     "data": {
      "text/html": [
       "<style>\n",
       ".list-inline {list-style: none; margin:0; padding: 0}\n",
       ".list-inline>li {display: inline-block}\n",
       ".list-inline>li:not(:last-child)::after {content: \"\\00b7\"; padding: 0 .5ex}\n",
       "</style>\n",
       "<ol class=list-inline><li>0.0909606863625133</li><li>-0.104262285380173</li><li>0.956310979812793</li><li>0.142312108486146</li><li>0.614500629965656</li><li>-1.96900018305289</li><li>-0.996200989507286</li><li>1.5603501303882</li><li>-0.642959074123252</li><li>1.00177253626474</li><li>-0.0752953922155334</li><li>0.109854230706028</li><li>1.24055148838491</li><li>-1.16249517081851</li><li>0.0776100822206266</li><li>0.451707659060615</li><li>0.88100784326568</li><li>1.42458336463504</li><li>0.519993215452836</li><li>-1.45326253731159</li></ol>\n"
      ],
      "text/latex": [
       "\\begin{enumerate*}\n",
       "\\item 0.0909606863625133\n",
       "\\item -0.104262285380173\n",
       "\\item 0.956310979812793\n",
       "\\item 0.142312108486146\n",
       "\\item 0.614500629965656\n",
       "\\item -1.96900018305289\n",
       "\\item -0.996200989507286\n",
       "\\item 1.5603501303882\n",
       "\\item -0.642959074123252\n",
       "\\item 1.00177253626474\n",
       "\\item -0.0752953922155334\n",
       "\\item 0.109854230706028\n",
       "\\item 1.24055148838491\n",
       "\\item -1.16249517081851\n",
       "\\item 0.0776100822206266\n",
       "\\item 0.451707659060615\n",
       "\\item 0.88100784326568\n",
       "\\item 1.42458336463504\n",
       "\\item 0.519993215452836\n",
       "\\item -1.45326253731159\n",
       "\\end{enumerate*}\n"
      ],
      "text/markdown": [
       "1. 0.0909606863625133\n",
       "2. -0.104262285380173\n",
       "3. 0.956310979812793\n",
       "4. 0.142312108486146\n",
       "5. 0.614500629965656\n",
       "6. -1.96900018305289\n",
       "7. -0.996200989507286\n",
       "8. 1.5603501303882\n",
       "9. -0.642959074123252\n",
       "10. 1.00177253626474\n",
       "11. -0.0752953922155334\n",
       "12. 0.109854230706028\n",
       "13. 1.24055148838491\n",
       "14. -1.16249517081851\n",
       "15. 0.0776100822206266\n",
       "16. 0.451707659060615\n",
       "17. 0.88100784326568\n",
       "18. 1.42458336463504\n",
       "19. 0.519993215452836\n",
       "20. -1.45326253731159\n",
       "\n",
       "\n"
      ],
      "text/plain": [
       " [1]  0.09096069 -0.10426229  0.95631098  0.14231211  0.61450063 -1.96900018\n",
       " [7] -0.99620099  1.56035013 -0.64295907  1.00177254 -0.07529539  0.10985423\n",
       "[13]  1.24055149 -1.16249517  0.07761008  0.45170766  0.88100784  1.42458336\n",
       "[19]  0.51999322 -1.45326254"
      ]
     },
     "metadata": {},
     "output_type": "display_data"
    },
    {
     "data": {
      "text/html": [
       "<style>\n",
       ".list-inline {list-style: none; margin:0; padding: 0}\n",
       ".list-inline>li {display: inline-block}\n",
       ".list-inline>li:not(:last-child)::after {content: \"\\00b7\"; padding: 0 .5ex}\n",
       "</style>\n",
       "<ol class=list-inline><li>0.241970724519143</li><li>0.0539909665131881</li><li>0.00443184841193801</li></ol>\n"
      ],
      "text/latex": [
       "\\begin{enumerate*}\n",
       "\\item 0.241970724519143\n",
       "\\item 0.0539909665131881\n",
       "\\item 0.00443184841193801\n",
       "\\end{enumerate*}\n"
      ],
      "text/markdown": [
       "1. 0.241970724519143\n",
       "2. 0.0539909665131881\n",
       "3. 0.00443184841193801\n",
       "\n",
       "\n"
      ],
      "text/plain": [
       "[1] 0.241970725 0.053990967 0.004431848"
      ]
     },
     "metadata": {},
     "output_type": "display_data"
    },
    {
     "data": {
      "text/html": [
       "0.950004209703559"
      ],
      "text/latex": [
       "0.950004209703559"
      ],
      "text/markdown": [
       "0.950004209703559"
      ],
      "text/plain": [
       "[1] 0.9500042"
      ]
     },
     "metadata": {},
     "output_type": "display_data"
    },
    {
     "data": {
      "text/plain": [
       "0.9500042 with absolute error < 1e-11"
      ]
     },
     "metadata": {},
     "output_type": "display_data"
    },
    {
     "data": {
      "text/html": [
       "0.94100554437954"
      ],
      "text/latex": [
       "0.94100554437954"
      ],
      "text/markdown": [
       "0.94100554437954"
      ],
      "text/plain": [
       "[1] 0.9410055"
      ]
     },
     "metadata": {},
     "output_type": "display_data"
    },
    {
     "data": {
      "text/html": [
       "-0.524400512708041"
      ],
      "text/latex": [
       "-0.524400512708041"
      ],
      "text/markdown": [
       "-0.524400512708041"
      ],
      "text/plain": [
       "[1] -0.5244005"
      ]
     },
     "metadata": {},
     "output_type": "display_data"
    }
   ],
   "source": [
    "\n",
    "# r: generate random number in specific distribution\n",
    "rnorm(20)\n",
    "\n",
    "# d:pmf/pdf\n",
    "dnorm(1:3)\n",
    "\n",
    "# p:cdf\n",
    "pnorm(q = 1.96) - pnorm(-1.96)\n",
    "integrate(dnorm,lower = -1.96, upper = 1.96)\n",
    "sum(dnorm(-1.96:1.96))\n",
    "\n",
    "# q:quantile\n",
    "qnorm(0.3)"
   ]
  },
  {
   "cell_type": "markdown",
   "metadata": {},
   "source": [
    "# Wednesday"
   ]
  },
  {
   "cell_type": "code",
   "execution_count": 16,
   "metadata": {},
   "outputs": [],
   "source": [
    "# Question 3\n",
    "flip_coin <- function(p,n,y){\n",
    "  return(choose(n,y)*(p^y)*((1-p)^(n-y)))\n",
    "}"
   ]
  },
  {
   "cell_type": "markdown",
   "metadata": {},
   "source": [
    "M1: the simplified model with p = 0.5(p is fixed), Under M1, there is 0 free parameter. The maximized likelihood under M1 is \n",
    "\n"
   ]
  },
  {
   "cell_type": "code",
   "execution_count": 17,
   "metadata": {},
   "outputs": [
    {
     "data": {
      "text/html": [
       "0.1171875"
      ],
      "text/latex": [
       "0.1171875"
      ],
      "text/markdown": [
       "0.1171875"
      ],
      "text/plain": [
       "[1] 0.1171875"
      ]
     },
     "metadata": {},
     "output_type": "display_data"
    },
    {
     "data": {
      "text/html": [
       "-2.14398006281741"
      ],
      "text/latex": [
       "-2.14398006281741"
      ],
      "text/markdown": [
       "-2.14398006281741"
      ],
      "text/plain": [
       "[1] -2.14398"
      ]
     },
     "metadata": {},
     "output_type": "display_data"
    }
   ],
   "source": [
    "L_0.5 <- flip_coin(0.5,10,7)\n",
    "log_L_0.5 <- log(L_0.5)\n",
    "L_0.5\n",
    "log_L_0.5"
   ]
  },
  {
   "cell_type": "markdown",
   "metadata": {},
   "source": [
    "M2: the Null model with 1 free parameter. We know from Tuesday that the likelihood is maximized when p=0.7. Hence the maximized likelihood under M1 is\n"
   ]
  },
  {
   "cell_type": "code",
   "execution_count": 18,
   "metadata": {},
   "outputs": [
    {
     "data": {
      "text/html": [
       "0.266827932"
      ],
      "text/latex": [
       "0.266827932"
      ],
      "text/markdown": [
       "0.266827932"
      ],
      "text/plain": [
       "[1] 0.2668279"
      ]
     },
     "metadata": {},
     "output_type": "display_data"
    },
    {
     "data": {
      "text/html": [
       "-1.32115127776689"
      ],
      "text/latex": [
       "-1.32115127776689"
      ],
      "text/markdown": [
       "-1.32115127776689"
      ],
      "text/plain": [
       "[1] -1.321151"
      ]
     },
     "metadata": {},
     "output_type": "display_data"
    }
   ],
   "source": [
    "L_0.7 <- flip_coin(0.7,10,7)\n",
    "log_L_0.7 <- log(L_0.7)\n",
    "L_0.7\n",
    "log_L_0.7"
   ]
  },
  {
   "cell_type": "markdown",
   "metadata": {},
   "source": [
    "LRT statistic:"
   ]
  },
  {
   "cell_type": "code",
   "execution_count": 19,
   "metadata": {},
   "outputs": [
    {
     "data": {
      "text/html": [
       "1.64565757010104"
      ],
      "text/latex": [
       "1.64565757010104"
      ],
      "text/markdown": [
       "1.64565757010104"
      ],
      "text/plain": [
       "[1] 1.645658"
      ]
     },
     "metadata": {},
     "output_type": "display_data"
    }
   ],
   "source": [
    "D <- 2*(log_L_0.7 - log_L_0.5)\n",
    "D"
   ]
  },
  {
   "cell_type": "markdown",
   "metadata": {},
   "source": [
    "df of this test is 1-0=1, critical value of $\\chi^2$ is 3.84.\n",
    "Since D < critical value, we accept M1 as the simplified model, do not reject the fair coin hypothesis."
   ]
  }
 ],
 "metadata": {
  "kernelspec": {
   "display_name": "R",
   "language": "R",
   "name": "ir"
  },
  "language_info": {
   "codemirror_mode": "r",
   "file_extension": ".r",
   "mimetype": "text/x-r-source",
   "name": "R",
   "pygments_lexer": "r",
   "version": "4.0.4"
  }
 },
 "nbformat": 4,
 "nbformat_minor": 4
}
