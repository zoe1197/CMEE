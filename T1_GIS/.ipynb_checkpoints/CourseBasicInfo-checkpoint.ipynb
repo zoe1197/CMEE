{
 "cells": [
  {
   "cell_type": "markdown",
   "metadata": {},
   "source": [
    "# Module orientation\n",
    "Welcome to the GIS Module for Masters courses at Silwood Park and the NHM.\n",
    "\n",
    "This course provides an introduction to core GIS concepts and then uses those to explore a couple of common GIS use cases in ecology: species distribution modeling and spatial statistics. All of the course material will be online and this Blackboard page will be used to keep track of key links to events. All live events will also be recorded and links will be posted here.\n",
    "\n",
    "## Module Team\n",
    "Most of the teaching will be via the module Team, which you can access from this link.\n",
    "\n",
    "## Lectures\n",
    "There are five prerecorded lectures in this module. There are links to each of the lectures below and they will be released at midnight on the scheduled day. I have scheduled times to watch these lectures in the course timetable but remote students can watch them earlier in the day!\n",
    "\n",
    "I have included Q&A sessions after each lecture slot - you won't all be watching the lectures at the same time, so having a session after everyone has had a chance to watch the material makes sense.\n",
    "\n",
    "## Practicals\n",
    "There are three practical sessions, all of which are self-paced sessions using R. We will be using R Cloud to run the practicals and you will all be assigned to a instructor group that you can call out to for help. Please do remember that different instructor have different skill-sets - if we get stuck with a problem you have then we can call out for help using the @Instructors tag and get more eyes on the problem!\n",
    "\n",
    "I have scheduled some troubleshooting sessions during the practicals - these are live events in Teams that we can use to handle common questions and problems and provide extra details if needed. Note that two of these events are in the afternoon - I know that is bad timing for remote students but they will be recorded!\n",
    "\n",
    "## Live Teams Sessions\n",
    "There are several Live Teams sessions timetabled for this module. These are used as live Lecture Q&A sessions and troubleshooting and wrap up sessions for the practical. All of these events are scheduled in the Live Events channel for the module Team but links to each of these sessions are also provided below. All of these events will be recorded and the links to those recordings will be added here when available\n",
    "\n",
    "## Files and class materials\n",
    "In general, all the files needed for the module will be in the Class Materials folder in the Team Files. It is easier to update and organise files there. However the lecture slides are also available from the content item below."
   ]
  },
  {
   "cell_type": "markdown",
   "metadata": {},
   "source": [
    "# Practical details\n",
    "There are three practicals. All of the practical handouts will be available from this [website](https://davidorme.github.io/Masters_GIS/intro.html)\n",
    "\n",
    "The practicals will be run in RStudio Cloud from the following [link](https://rstudio.cloud/spaces/96859/projects)\n",
    "\n",
    "There is a different Project from each practical. All of the required data and packages should be preloaded into each Project. We will be using exactly the same groups as the previous weeks. The GTA team will again be using the DoLS GTAx accounts to access your RStudio Cloud projects. The IDs and  the GTAs assigned to each group are:\n",
    "\n",
    "### GTA accounts\n",
    "RStudioCloud Sign-in\tDemonstrator\n",
    "dolsgta1+one@gmail.com\tRachel\n",
    "dolsgta1+two@gmail.com\tHannah\n",
    "dolsgta1+three@gmail.com\tMichelle\n",
    "dolsgta1+four@gmail.com\tFlavia\n",
    "dolsgta1+five@gmail.com\tRoss\n",
    "dolsgta1+six@gmail.com\tRichard\n",
    "dolsgta1+seven@gmail.com\tThomas\n",
    "dolsgta1+eight@gmail.com\tMonika\n",
    "dolsgta1+nine@gmail.com\tJamie\n",
    "dolsgta1+ten@gmail.com\tMiles\n",
    "\n",
    "### Group GTA assignments\n",
    "Group\tGroup Size\tGTA\n",
    "SK01\t4\tRoss Gray\n",
    "SK02\t6\tRoss Gray\n",
    "SK03\t4\tRoss Gray\n",
    "SK05\t3\tHannah O'Sullivan\n",
    "SK06\t6\tMichelle Lin\n",
    "SK07\t5\tMonika Goralczyk\n",
    "SK08\t3\tMonika Goralczyk\n",
    "SP01\t4\tRob Barber\n",
    "SP02\t5\tRob Barber\n",
    "SP03\t6\tRachel Bates\n",
    "SP04\t6\tRachel Bates\n",
    "SP05\t5\tJamie Dunning\n",
    "SP06\t5\tJamie Dunning\n",
    "SP07\t6\tFlavia Bellotto Trigo\n",
    "SP08\t6\tFlavia Bellotto Trigo\n",
    "SP09\t5\tRob Barber\n",
    "SP10\t6\tRichard Sheppard\n",
    "SP11\t6\tMichelle Lin\n",
    "SP12\t6\tHannah O'Sullivan\n",
    "SP13\t7\tThomas Weeks\n",
    "SP14\t6\tThomas Weeks\n",
    "SP15\t4\tRichard Sheppard\n",
    "SP16\t5\tRichard Sheppard\n",
    "SP17\t6\tFlavia Bellotto Trigo\n",
    "SP18\t5\tJamie Dunning\n",
    "SP19\t5\tHannah O'Sullivan\n",
    "SP20\t5\tMonika Goralczyk"
   ]
  },
  {
   "cell_type": "markdown",
   "metadata": {},
   "source": [
    "# Lectures\n",
    "[Lecture1](https://imperial.cloud.panopto.eu/Panopto/Pages/Viewer.aspx?id=8872988b-ff7d-4959-9e6b-ac6400c3f04a&start=1.154375)\n",
    "[Lecture2](https://imperial.cloud.panopto.eu/Panopto/Pages/Viewer.aspx?id=8cb4677d-52bb-4779-b924-ac6400c3efc1&start=1.398423)\n",
    "[Lecture3](https://imperial.cloud.panopto.eu/Panopto/Pages/Viewer.aspx?id=97a1c3e2-9e2e-4b14-9575-ac6400c3ef01&start=undefined)\n",
    "[Lecture4](https://imperial.cloud.panopto.eu/Panopto/Pages/Viewer.aspx?id=37dc3e49-2f35-4461-b208-ac6400c3ee4b&start=undefined)\n",
    "[Lecture5](https://imperial.cloud.panopto.eu/Panopto/Pages/Viewer.aspx?id=f6a54ff4-ed2c-4a53-80bf-ac640040611e&start=undefined)"
   ]
  }
 ],
 "metadata": {
  "kernelspec": {
   "display_name": "R",
   "language": "R",
   "name": "ir"
  },
  "language_info": {
   "codemirror_mode": "r",
   "file_extension": ".r",
   "mimetype": "text/x-r-source",
   "name": "R",
   "pygments_lexer": "r",
   "version": "4.0.4"
  }
 },
 "nbformat": 4,
 "nbformat_minor": 4
}
