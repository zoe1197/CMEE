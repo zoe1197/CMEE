{
 "cells": [
  {
   "cell_type": "code",
   "execution_count": 1,
   "metadata": {},
   "outputs": [],
   "source": [
    "library(keras)"
   ]
  },
  {
   "cell_type": "code",
   "execution_count": 2,
   "metadata": {},
   "outputs": [
    {
     "name": "stdout",
     "output_type": "stream",
     "text": [
      "\n",
      "Installation complete.\n",
      "\n"
     ]
    }
   ],
   "source": [
    "install_keras()"
   ]
  },
  {
   "cell_type": "code",
   "execution_count": null,
   "metadata": {},
   "outputs": [],
   "source": [
    "model <- keras_model_sequential() "
   ]
  },
  {
   "cell_type": "code",
   "execution_count": 1,
   "metadata": {},
   "outputs": [],
   "source": [
    "exp <- replicate(10, rnorm(400))\n",
    "resp <- exp[,1]*2 -0.5*exp[,2] - exp[,7]*exp[,8] + exp(abs(exp[,3])) + rnorm(nrow(exp))\n",
    "# Scale data and making training subset\n",
    "exp <- as.matrix(scale(exp)); resp <- as.numeric(scale(resp))\n",
    "training <- sample(nrow(exp), nrow(exp)/2)"
   ]
  },
  {
   "cell_type": "code",
   "execution_count": 1,
   "metadata": {},
   "outputs": [
    {
     "ename": "ERROR",
     "evalue": "Error in model %>% layer_dense(units = 15, activation = \"relu\", input_shape = 10) %>% : 没有\"%>%\"这个函数\n",
     "output_type": "error",
     "traceback": [
      "Error in model %>% layer_dense(units = 15, activation = \"relu\", input_shape = 10) %>% : 没有\"%>%\"这个函数\nTraceback:\n"
     ]
    }
   ],
   "source": [
    "model %>% \n",
    "    layer_dense(units = 15, activation = 'relu', input_shape=10) %>%\n",
    "    layer_dense(units = 15, activation = 'relu') %>% \n",
    "    layer_dense(units = 1)"
   ]
  },
  {
   "cell_type": "code",
   "execution_count": null,
   "metadata": {},
   "outputs": [],
   "source": [
    "library(tensorflow)\n",
    "tf$constant(\"Hellow Tensorflow\")"
   ]
  },
  {
   "cell_type": "code",
   "execution_count": null,
   "metadata": {},
   "outputs": [],
   "source": []
  }
 ],
 "metadata": {
  "kernelspec": {
   "display_name": "R",
   "language": "R",
   "name": "ir"
  },
  "language_info": {
   "codemirror_mode": "r",
   "file_extension": ".r",
   "mimetype": "text/x-r-source",
   "name": "R",
   "pygments_lexer": "r",
   "version": "4.0.3"
  }
 },
 "nbformat": 4,
 "nbformat_minor": 4
}
