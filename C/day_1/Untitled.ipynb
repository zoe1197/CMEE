{
 "cells": [
  {
   "cell_type": "markdown",
   "metadata": {},
   "source": [
    "**compile:**\n",
    "gcc filename.c -0 OutputFilename\n",
    "./OutputFilename\n",
    "\n",
    "**exit:**\n",
    "type(:+q+enter)"
   ]
  },
  {
   "cell_type": "markdown",
   "metadata": {},
   "source": [
    "# 1.1 hello.c"
   ]
  },
  {
   "cell_type": "code",
   "execution_count": 9,
   "metadata": {},
   "outputs": [
    {
     "name": "stdout",
     "output_type": "stream",
     "text": [
      "Hello, world!\n",
      "This is an interger: 234. \n",
      "This is another integer: 12. \n"
     ]
    }
   ],
   "source": [
    "#include <stdio.h>\n",
    "#include <stdlib.h> // Preprocessor dirs on separate lines\n",
    "int main(void)\n",
    "// vim hello.c\n",
    "{\n",
    "    /* This is the main function.\n",
    "       Program execution begins here.\n",
    "     \n",
    "    * This is a multi-line comment\n",
    "      This is the second line of a multi-line comment */\n",
    "\n",
    "    printf(\"Hello, world!\\n\"); // This is for reporting to user\n",
    "    printf(\"This is an interger: %i. \\nThis is another integer: %i. \\n\", 234, 12);\n",
    "\n",
    "    return 0; // This returns codes to the OS;\n",
    "}"
   ]
  },
  {
   "cell_type": "markdown",
   "metadata": {},
   "source": [
    "# 1.2 arith.c"
   ]
  },
  {
   "cell_type": "code",
   "execution_count": 10,
   "metadata": {},
   "outputs": [
    {
     "name": "stdout",
     "output_type": "stream",
     "text": [
      "The result of 7 + 4 is: 11\n",
      "The result of 7/2 is: 3\n",
      "the result of 7/2 is: 3.000000\n",
      "the char arith result is: -2\n"
     ]
    }
   ],
   "source": [
    "#include <stdio.h>\n",
    "\n",
    "int main(void)\n",
    "{\n",
    "    int a=7, b =2, c=0;\n",
    "\n",
    "    c = a + 4;\n",
    "    printf(\"The result of %i + 4 is: %i\\n\", a, c);\n",
    "    \n",
    "    c = a/b;\n",
    "    printf(\"The result of %i/%i is: %i\\n\", a, b, c);\n",
    "\n",
    "    // how about change the result into float\n",
    "    float d;\n",
    "    d = a/b;\n",
    "    printf(\"the result of %i/%i is: %f\\n\", a, b, d);\n",
    "\n",
    "\n",
    "    // arithmetic on charactor data type\n",
    "    char p[] = \"a\";\n",
    "    char q[] = \"h\";\n",
    "    \n",
    "    char case_offset = p-q;\n",
    "    printf(\"the char arith result is: %d\\n\", case_offset);\n",
    "\n",
    "    return 0;\n",
    "}"
   ]
  }
 ],
 "metadata": {
  "kernelspec": {
   "display_name": "C",
   "language": "c",
   "name": "c"
  },
  "language_info": {
   "file_extension": ".c",
   "mimetype": "text/plain",
   "name": "c"
  }
 },
 "nbformat": 4,
 "nbformat_minor": 4
}
