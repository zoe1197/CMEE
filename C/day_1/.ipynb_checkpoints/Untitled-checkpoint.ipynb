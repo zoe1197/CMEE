{
 "cells": [
  {
   "cell_type": "markdown",
   "metadata": {},
   "source": [
    "gcc filename.c -0 OutputFilename\n",
    "./OutputFilename"
   ]
  },
  {
   "cell_type": "markdown",
   "metadata": {},
   "source": [
    "# 1.1 hello.c"
   ]
  },
  {
   "cell_type": "code",
   "execution_count": 3,
   "metadata": {},
   "outputs": [
    {
     "name": "stdout",
     "output_type": "stream",
     "text": [
      "Hello, world!\n",
      "This is an interger: 234. \n"
     ]
    }
   ],
   "source": [
    "#include <stdio.h>\n",
    "#include <stdlib.h> // Preprocessor dirs on separate lines\n",
    "int main(void)\n",
    "// vim hello.c\n",
    "{\n",
    "    /* This is the main function.\n",
    "       Program execution begins here.\n",
    "     \n",
    "    * This is a multi-line comment\n",
    "      This is the second line of a multi-line comment */\n",
    "\n",
    "    printf(\"Hello, world!\\n\"); // This is for reporting to user\n",
    "    printf(\"This is an interger: %i. \\n\", 234);\n",
    "\n",
    "    return 0; // This returns codes to the OS;\n",
    "}"
   ]
  }
 ],
 "metadata": {
  "kernelspec": {
   "display_name": "C",
   "language": "c",
   "name": "c"
  },
  "language_info": {
   "file_extension": ".c",
   "mimetype": "text/plain",
   "name": "c"
  }
 },
 "nbformat": 4,
 "nbformat_minor": 4
}
