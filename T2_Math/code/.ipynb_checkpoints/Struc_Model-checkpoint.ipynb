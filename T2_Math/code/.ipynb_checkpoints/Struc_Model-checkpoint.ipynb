{
 "cells": [
  {
   "cell_type": "code",
   "execution_count": 1,
   "metadata": {},
   "outputs": [
    {
     "name": "stdout",
     "output_type": "stream",
     "text": [
      "[ 0  0 10]\n",
      "\n",
      "[[  0.    5.  100. ]\n",
      " [  0.1   0.    0. ]\n",
      " [  0.    0.2   0. ]]\n",
      "\n"
     ]
    }
   ],
   "source": [
    "import matplotlib.pyplot as plt\n",
    "import numpy as np\n",
    "import scipy.linalg as la\n",
    "\n",
    "\n",
    "nvec = np.array([0,0,10])\n",
    "proj = np.array([[0,5,100],[0.1,0,0],[0,0.2,0.]])\n",
    "\n",
    "pop  = np.array([nvec])\n",
    "\n",
    "print(nvec)\n",
    "print('')\n",
    "print(proj)\n",
    "print('')\n",
    "\n",
    "for i in range(50):\n",
    "    \n",
    "    nvec=proj.dot(nvec)\n",
    "    pop=np.append(pop,[nvec],axis=0)\n",
    "\n",
    "#print(pop.astype(int))\n",
    "#plt.scatter(np.arange(len(np.sum(pop[:50],axis=1))),np.sum(pop[:50],axis=1))\n"
   ]
  },
  {
   "cell_type": "code",
   "execution_count": 2,
   "metadata": {},
   "outputs": [
    {
     "name": "stdout",
     "output_type": "stream",
     "text": [
      "[ 1.39176877+0.j         -0.69588439+0.97609694j -0.69588439-0.97609694j]\n",
      "\n",
      "[[-0.99737578+0.j          0.9964428 +0.j          0.9964428 -0.j        ]\n",
      " [-0.07166246+0.j         -0.04825325-0.06768344j -0.04825325+0.06768344j]\n",
      " [-0.01029804+0.j         -0.00452143+0.01311042j -0.00452143-0.01311042j]]\n"
     ]
    }
   ],
   "source": [
    "eigen = la.eig(proj)\n",
    "print(eigen[0])\n",
    "print('')\n",
    "print(eigen[1])\n",
    "#print(eigen)"
   ]
  },
  {
   "cell_type": "code",
   "execution_count": 3,
   "metadata": {},
   "outputs": [
    {
     "name": "stdout",
     "output_type": "stream",
     "text": [
      "[0.92406398-0.j 0.06639494-0.j 0.00954109-0.j]\n"
     ]
    }
   ],
   "source": [
    "v1=eigen[1][:,0]\n",
    "print(v1/sum(v1))"
   ]
  }
 ],
 "metadata": {
  "kernelspec": {
   "display_name": "Python 3",
   "language": "python",
   "name": "python3"
  },
  "language_info": {
   "codemirror_mode": {
    "name": "ipython",
    "version": 3
   },
   "file_extension": ".py",
   "mimetype": "text/x-python",
   "name": "python",
   "nbconvert_exporter": "python",
   "pygments_lexer": "ipython3",
   "version": "3.8.5"
  }
 },
 "nbformat": 4,
 "nbformat_minor": 4
}
