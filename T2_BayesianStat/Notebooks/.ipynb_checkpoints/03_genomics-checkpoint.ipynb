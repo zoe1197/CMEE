{
 "cells": [
  {
   "cell_type": "markdown",
   "metadata": {
    "slideshow": {
     "slide_type": "slide"
    }
   },
   "source": [
    "![ICL](Images/imperiallogo.jpeg)\n",
    "\n",
    "# Introduction to Bayesian methods in ecology and evolution\n",
    "\n",
    "## Monday: 03 - Bayesian applications in genomics"
   ]
  },
  {
   "cell_type": "markdown",
   "metadata": {
    "slideshow": {
     "slide_type": "slide"
    }
   },
   "source": [
    "### Reconstructing genomes from sequencing data\n",
    "\n",
    "You are going to develop and implement a Bayesian approach to reconstruct genomes from data produced from high-throughput sequencing machines. \n",
    "\n",
    "Specifically, you will be doing __genotype calling__ from short-read NGS data."
   ]
  },
  {
   "cell_type": "markdown",
   "metadata": {
    "slideshow": {
     "slide_type": "subslide"
    }
   },
   "source": [
    "<img src=\"Images/NGS.png\" width=\"400\" height=\"400\" />"
   ]
  },
  {
   "cell_type": "markdown",
   "metadata": {
    "slideshow": {
     "slide_type": "slide"
    }
   },
   "source": [
    "Load the *R* functions needed with `source(\"Data/functions.R\")`.\n",
    "\n",
    "Among these functions, we provide one that calculates the likelihood of a certain sequence of bases\n",
    "for diploid individuals.\n",
    "This function is called _calcGenoLikes_ and takes 5 paramaters in input:\n",
    "* the sequence itself (collection of bases)\n",
    "* the first allele of the genotype\n",
    "* the second allele of the genotype\n",
    "* the sequencing error rate\n",
    "* a boolean indicating whether the results should be returned in logarithmic scale (TRUE) or not (FALSE)"
   ]
  },
  {
   "cell_type": "code",
   "execution_count": 1,
   "metadata": {},
   "outputs": [
    {
     "name": "stderr",
     "output_type": "stream",
     "text": [
      "Loading required package: spam\n",
      "\n",
      "Loading required package: dotCall64\n",
      "\n",
      "Loading required package: grid\n",
      "\n",
      "Spam version 2.6-0 (2020-12-14) is loaded.\n",
      "Type 'help( Spam)' or 'demo( spam)' for a short introduction \n",
      "and overview of this package.\n",
      "Help for individual functions is also obtained by adding the\n",
      "suffix '.spam' to the function name, e.g. 'help( chol.spam)'.\n",
      "\n",
      "\n",
      "Attaching package: ‘spam’\n",
      "\n",
      "\n",
      "The following objects are masked from ‘package:base’:\n",
      "\n",
      "    backsolve, forwardsolve\n",
      "\n",
      "\n",
      "See https://github.com/NCAR/Fields for\n",
      " an extensive vignette, other supplements and source code \n",
      "\n"
     ]
    }
   ],
   "source": [
    "source(\"Data/functions.R\")"
   ]
  },
  {
   "cell_type": "markdown",
   "metadata": {
    "slideshow": {
     "slide_type": "subslide"
    }
   },
   "source": [
    "\n",
    "For instance, assuming that your sequence is `AATATTA`, your alleles are `A` and `T` (meaning that you want to calculate the likelihood for genotypes `{AA,AT,TT}`, and your sequencing error rate is 0.05, then the likelihood (not in logarithms) for each genotype is given by \n",
    "```calcGenoLikes(\"AATATTA\", \"A\", \"T\", 0.05, FALSE)```"
   ]
  },
  {
   "cell_type": "code",
   "execution_count": 6,
   "metadata": {},
   "outputs": [
    {
     "data": {
      "text/html": [
       "<style>\n",
       ".dl-inline {width: auto; margin:0; padding: 0}\n",
       ".dl-inline>dt, .dl-inline>dd {float: none; width: auto; display: inline-block}\n",
       ".dl-inline>dt::after {content: \":\\0020\"; padding-right: .5ex}\n",
       ".dl-inline>dt:not(:first-of-type) {padding-left: .5ex}\n",
       "</style><dl class=dl-inline><dt>AA</dt><dd>3.77086226851852e-06</dd><dt>AT</dt><dd>0.00616207858546239</dd><dt>TT</dt><dd>6.61554783950617e-08</dd></dl>\n"
      ],
      "text/latex": [
       "\\begin{description*}\n",
       "\\item[AA] 3.77086226851852e-06\n",
       "\\item[AT] 0.00616207858546239\n",
       "\\item[TT] 6.61554783950617e-08\n",
       "\\end{description*}\n"
      ],
      "text/markdown": [
       "AA\n",
       ":   3.77086226851852e-06AT\n",
       ":   0.00616207858546239TT\n",
       ":   6.61554783950617e-08\n",
       "\n"
      ],
      "text/plain": [
       "          AA           AT           TT \n",
       "3.770862e-06 6.162079e-03 6.615548e-08 "
      ]
     },
     "metadata": {},
     "output_type": "display_data"
    }
   ],
   "source": [
    "calcGenoLikes(\"AATATTA\", \"A\", \"T\", 0.05, FALSE)"
   ]
  },
  {
   "cell_type": "markdown",
   "metadata": {
    "slideshow": {
     "slide_type": "slide"
    }
   },
   "source": [
    "Complete all the following tasks using *R* when necessary.\n",
    "The key point of these exercises is to not recalculate quantities that you have already computed.\n",
    "The aim is that you should be able to understand whether the likelihood or the prior is the same (or not)\n",
    "between different scenarios."
   ]
  },
  {
   "cell_type": "markdown",
   "metadata": {
    "slideshow": {
     "slide_type": "slide"
    }
   },
   "source": [
    "___A)___ \n",
    "\n",
    "Using Bayes' theorem, write the formula for the posterior probability of genotype G being\n",
    "AA given the sequencing data D.\n",
    "Write the explicit denominator assuming that your alleles are A and T and all possible genotypes are only AA, AT, TT."
   ]
  },
  {
   "cell_type": "raw",
   "metadata": {},
   "source": [
    "A)\n",
    "P(G|D) = P(D|G)*P(G) / sum( P(D|G_i) )\n",
    "G = AA"
   ]
  },
  {
   "cell_type": "markdown",
   "metadata": {
    "slideshow": {
     "slide_type": "slide"
    }
   },
   "source": [
    "___B)___ \n",
    "\n",
    "Assuming that your data is `AAAT`, your alleles are A and T, and the sequencing error rate is 0.01,\n",
    "calculate genotype posterior probability using a uniform prior, e.g. $P(G=AA) = P(G=AT) = P(G=TT) = ?$"
   ]
  },
  {
   "cell_type": "code",
   "execution_count": 69,
   "metadata": {
    "slideshow": {
     "slide_type": "subslide"
    }
   },
   "outputs": [
    {
     "data": {
      "text/html": [
       "<style>\n",
       ".dl-inline {width: auto; margin:0; padding: 0}\n",
       ".dl-inline>dt, .dl-inline>dd {float: none; width: auto; display: inline-block}\n",
       ".dl-inline>dt::after {content: \":\\0020\"; padding-right: .5ex}\n",
       ".dl-inline>dt:not(:first-of-type) {padding-left: .5ex}\n",
       "</style><dl class=dl-inline><dt>AA</dt><dd>0.0504699336283693</dd><dt>AT</dt><dd>0.949529494208545</dd><dt>TT</dt><dd>5.72163085721063e-07</dd></dl>\n"
      ],
      "text/latex": [
       "\\begin{description*}\n",
       "\\item[AA] 0.0504699336283693\n",
       "\\item[AT] 0.949529494208545\n",
       "\\item[TT] 5.72163085721063e-07\n",
       "\\end{description*}\n"
      ],
      "text/markdown": [
       "AA\n",
       ":   0.0504699336283693AT\n",
       ":   0.949529494208545TT\n",
       ":   5.72163085721063e-07\n",
       "\n"
      ],
      "text/plain": [
       "          AA           AT           TT \n",
       "5.046993e-02 9.495295e-01 5.721631e-07 "
      ]
     },
     "metadata": {},
     "output_type": "display_data"
    },
    {
     "data": {
      "text/html": [
       "1"
      ],
      "text/latex": [
       "1"
      ],
      "text/markdown": [
       "1"
      ],
      "text/plain": [
       "[1] 1"
      ]
     },
     "metadata": {},
     "output_type": "display_data"
    },
    {
     "ename": "ERROR",
     "evalue": "Error in barplot(posteriors_B): object 'posteriors_B' not found\n",
     "output_type": "error",
     "traceback": [
      "Error in barplot(posteriors_B): object 'posteriors_B' not found\nTraceback:\n",
      "1. barplot(posteriors_B)"
     ]
    }
   ],
   "source": [
    "P <- calcGenoLikes(\"AAAT\", \"A\", \"T\", 0.01, FALSE)\n",
    "\n",
    "posterior_B <- c()\n",
    "for(i in 1:3){\n",
    "    posterior_B <- c(posterior_B, P[i]*1/3 / sum(P*1/3) )\n",
    "}\n",
    "\n",
    "\n",
    "posterior_B\n",
    "\n",
    "sum(posterior_B)\n"
   ]
  },
  {
   "cell_type": "markdown",
   "metadata": {
    "slideshow": {
     "slide_type": "slide"
    }
   },
   "source": [
    "___C)___ \n",
    "\n",
    "With the same assumptions as in point B, calculate genotype posterior probabilities using prior probabilitties based on [Hardy Weinberg Equilibrium](https://en.wikipedia.org/wiki/Hardy–Weinberg_principle) with a frequency of T of 0.1. Do you need to calculate a new likelihood or is it the same one as in point B?"
   ]
  },
  {
   "cell_type": "code",
   "execution_count": 35,
   "metadata": {
    "slideshow": {
     "slide_type": "subslide"
    }
   },
   "outputs": [
    {
     "data": {
      "text/html": [
       "<style>\n",
       ".list-inline {list-style: none; margin:0; padding: 0}\n",
       ".list-inline>li {display: inline-block}\n",
       ".list-inline>li:not(:last-child)::after {content: \"\\00b7\"; padding: 0 .5ex}\n",
       "</style>\n",
       "<ol class=list-inline><li>0.81</li><li>0.18</li><li>0.01</li></ol>\n"
      ],
      "text/latex": [
       "\\begin{enumerate*}\n",
       "\\item 0.81\n",
       "\\item 0.18\n",
       "\\item 0.01\n",
       "\\end{enumerate*}\n"
      ],
      "text/markdown": [
       "1. 0.81\n",
       "2. 0.18\n",
       "3. 0.01\n",
       "\n",
       "\n"
      ],
      "text/plain": [
       "[1] 0.81 0.18 0.01"
      ]
     },
     "metadata": {},
     "output_type": "display_data"
    },
    {
     "data": {
      "text/html": [
       "<style>\n",
       ".dl-inline {width: auto; margin:0; padding: 0}\n",
       ".dl-inline>dt, .dl-inline>dd {float: none; width: auto; display: inline-block}\n",
       ".dl-inline>dt::after {content: \":\\0020\"; padding-right: .5ex}\n",
       ".dl-inline>dt:not(:first-of-type) {padding-left: .5ex}\n",
       "</style><dl class=dl-inline><dt>AA</dt><dd>0.19301900783074</dd><dt>AT</dt><dd>0.806980965154435</dd><dt>TT</dt><dd>2.7014825176113e-08</dd></dl>\n"
      ],
      "text/latex": [
       "\\begin{description*}\n",
       "\\item[AA] 0.19301900783074\n",
       "\\item[AT] 0.806980965154435\n",
       "\\item[TT] 2.7014825176113e-08\n",
       "\\end{description*}\n"
      ],
      "text/markdown": [
       "AA\n",
       ":   0.19301900783074AT\n",
       ":   0.806980965154435TT\n",
       ":   2.7014825176113e-08\n",
       "\n"
      ],
      "text/plain": [
       "          AA           AT           TT \n",
       "1.930190e-01 8.069810e-01 2.701483e-08 "
      ]
     },
     "metadata": {},
     "output_type": "display_data"
    }
   ],
   "source": [
    "t <- 0.1\n",
    "Priors_C <- c( (1-t)^2, 2*t*(1-t), t^2)\n",
    "Priors_C\n",
    "posterior_C <- P * Priors_C / sum(P * Priors_C)\n",
    "posterior_C"
   ]
  },
  {
   "cell_type": "markdown",
   "metadata": {
    "slideshow": {
     "slide_type": "slide"
    }
   },
   "source": [
    "___D)___  \n",
    "\n",
    "With the same assumptions as in point C, calculate genotype posterior probabilities using a prior based on Hardy Weinberg Equilibrium with a frequency of T of 0.1 and an [inbreeding coefficient](https://en.wikipedia.org/wiki/Inbreeding) of 0.2.\n",
    "In this case, we need to modify our previous priors.\n",
    "Specifically, if $f$ is the frequency of allele A and $I$ is the inbreeding coefficient,\n",
    "then the prior probabilities for all genotypes are:\n",
    "* $p(AA)=f^2 + I \\times f \\times (1-f)$\n",
    "* $p(AT)=2 \\times f \\times (1-f) \\times (1-I)$\n",
    "* $p(TT)=(1-f)^2 + I \\times f \\times (1-f)$\n",
    "\n",
    "Do you need to calculate a new likelihood or is it the same one as in points B and C?"
   ]
  },
  {
   "cell_type": "code",
   "execution_count": 38,
   "metadata": {
    "slideshow": {
     "slide_type": "subslide"
    }
   },
   "outputs": [
    {
     "data": {
      "text/html": [
       "<style>\n",
       ".list-inline {list-style: none; margin:0; padding: 0}\n",
       ".list-inline>li {display: inline-block}\n",
       ".list-inline>li:not(:last-child)::after {content: \"\\00b7\"; padding: 0 .5ex}\n",
       "</style>\n",
       "<ol class=list-inline><li>0.828</li><li>0.144</li><li>0.028</li></ol>\n"
      ],
      "text/latex": [
       "\\begin{enumerate*}\n",
       "\\item 0.828\n",
       "\\item 0.144\n",
       "\\item 0.028\n",
       "\\end{enumerate*}\n"
      ],
      "text/markdown": [
       "1. 0.828\n",
       "2. 0.144\n",
       "3. 0.028\n",
       "\n",
       "\n"
      ],
      "text/plain": [
       "[1] 0.828 0.144 0.028"
      ]
     },
     "metadata": {},
     "output_type": "display_data"
    },
    {
     "data": {
      "text/html": [
       "<style>\n",
       ".dl-inline {width: auto; margin:0; padding: 0}\n",
       ".dl-inline>dt, .dl-inline>dd {float: none; width: auto; display: inline-block}\n",
       ".dl-inline>dt::after {content: \":\\0020\"; padding-right: .5ex}\n",
       ".dl-inline>dt:not(:first-of-type) {padding-left: .5ex}\n",
       "</style><dl class=dl-inline><dt>AA</dt><dd>0.23408461103795</dd><dt>AT</dt><dd>0.76591529922172</dd><dt>TT</dt><dd>8.97403294571994e-08</dd></dl>\n"
      ],
      "text/latex": [
       "\\begin{description*}\n",
       "\\item[AA] 0.23408461103795\n",
       "\\item[AT] 0.76591529922172\n",
       "\\item[TT] 8.97403294571994e-08\n",
       "\\end{description*}\n"
      ],
      "text/markdown": [
       "AA\n",
       ":   0.23408461103795AT\n",
       ":   0.76591529922172TT\n",
       ":   8.97403294571994e-08\n",
       "\n"
      ],
      "text/plain": [
       "          AA           AT           TT \n",
       "2.340846e-01 7.659153e-01 8.974033e-08 "
      ]
     },
     "metadata": {},
     "output_type": "display_data"
    }
   ],
   "source": [
    "t <- 0.1\n",
    "i <- 0.2\n",
    "priors_D <- c( (1-t)^2+i*t*(1-t), 2*t*(1-t)*(1-i), t^2+i*t*(1-t) )\n",
    "priors_D\n",
    "posterior_D <- P * priors_D / sum(P *priors_D)\n",
    "posterior_D"
   ]
  },
  {
   "cell_type": "markdown",
   "metadata": {
    "slideshow": {
     "slide_type": "slide"
    }
   },
   "source": [
    "___E)___ \n",
    "\n",
    "With the same priors used in point D but with a sequencing error rate of 0.05, calculate the genotype posterior probabilities. Do you need to calculate a new likelihood or is it the same one as in point D?\n"
   ]
  },
  {
   "cell_type": "code",
   "execution_count": 42,
   "metadata": {
    "slideshow": {
     "slide_type": "subslide"
    }
   },
   "outputs": [
    {
     "data": {
      "text/html": [
       "<style>\n",
       ".dl-inline {width: auto; margin:0; padding: 0}\n",
       ".dl-inline>dt, .dl-inline>dd {float: none; width: auto; display: inline-block}\n",
       ".dl-inline>dt::after {content: \":\\0020\"; padding-right: .5ex}\n",
       ".dl-inline>dt:not(:first-of-type) {padding-left: .5ex}\n",
       "</style><dl class=dl-inline><dt>AA</dt><dd>0.0142895833333333</dd><dt>AT</dt><dd>0.0545741512345679</dd><dt>TT</dt><dd>4.39814814814815e-06</dd></dl>\n"
      ],
      "text/latex": [
       "\\begin{description*}\n",
       "\\item[AA] 0.0142895833333333\n",
       "\\item[AT] 0.0545741512345679\n",
       "\\item[TT] 4.39814814814815e-06\n",
       "\\end{description*}\n"
      ],
      "text/markdown": [
       "AA\n",
       ":   0.0142895833333333AT\n",
       ":   0.0545741512345679TT\n",
       ":   4.39814814814815e-06\n",
       "\n"
      ],
      "text/plain": [
       "          AA           AT           TT \n",
       "1.428958e-02 5.457415e-02 4.398148e-06 "
      ]
     },
     "metadata": {},
     "output_type": "display_data"
    },
    {
     "data": {
      "text/html": [
       "<style>\n",
       ".dl-inline {width: auto; margin:0; padding: 0}\n",
       ".dl-inline>dt, .dl-inline>dd {float: none; width: auto; display: inline-block}\n",
       ".dl-inline>dt::after {content: \":\\0020\"; padding-right: .5ex}\n",
       ".dl-inline>dt:not(:first-of-type) {padding-left: .5ex}\n",
       "</style><dl class=dl-inline><dt>AA</dt><dd>0.600885166818381</dd><dt>AT</dt><dd>0.399108579014721</dd><dt>TT</dt><dd>6.25416689747521e-06</dd></dl>\n"
      ],
      "text/latex": [
       "\\begin{description*}\n",
       "\\item[AA] 0.600885166818381\n",
       "\\item[AT] 0.399108579014721\n",
       "\\item[TT] 6.25416689747521e-06\n",
       "\\end{description*}\n"
      ],
      "text/markdown": [
       "AA\n",
       ":   0.600885166818381AT\n",
       ":   0.399108579014721TT\n",
       ":   6.25416689747521e-06\n",
       "\n"
      ],
      "text/plain": [
       "          AA           AT           TT \n",
       "6.008852e-01 3.991086e-01 6.254167e-06 "
      ]
     },
     "metadata": {},
     "output_type": "display_data"
    },
    {
     "data": {
      "text/html": [
       "1"
      ],
      "text/latex": [
       "1"
      ],
      "text/markdown": [
       "1"
      ],
      "text/plain": [
       "[1] 1"
      ]
     },
     "metadata": {},
     "output_type": "display_data"
    }
   ],
   "source": [
    "P_0.05 <- calcGenoLikes(\"AAAT\", \"A\", \"T\", 0.05, FALSE)\n",
    "P_0.05\n",
    "# prior_E <- prior_D\n",
    "prior_E <- c( (1-t)^2+i*t*(1-t), 2*t*(1-t)*(1-i), t^2+i*t*(1-t) )\n",
    "posteriors_E <- P_0.05 * prior_E / sum(prior_E * P_0.05)\n",
    "posteriors_E\n",
    "sum(posteriors_E)"
   ]
  },
  {
   "cell_type": "markdown",
   "metadata": {
    "slideshow": {
     "slide_type": "slide"
    }
   },
   "source": [
    "___F)___ \n",
    "\n",
    "Plot all previous results (e.g. use a barplot with the 3 posterior probabilities for each scenario B-E)."
   ]
  },
  {
   "cell_type": "code",
   "execution_count": 72,
   "metadata": {
    "slideshow": {
     "slide_type": "subslide"
    }
   },
   "outputs": [
    {
     "data": {
      "image/png": "[encoded data removed]",
      "text/plain": [
       "plot without title"
      ]
     },
     "metadata": {
      "image/png": {
       "height": 420,
       "width": 420
      }
     },
     "output_type": "display_data"
    },
    {
     "data": {
      "image/png": "[encoded data removed]",
      "text/plain": [
       "plot without title"
      ]
     },
     "metadata": {
      "image/png": {
       "height": 420,
       "width": 420
      }
     },
     "output_type": "display_data"
    },
    {
     "data": {
      "image/png": "[encoded data removed]",
      "text/plain": [
       "plot without title"
      ]
     },
     "metadata": {
      "image/png": {
       "height": 420,
       "width": 420
      }
     },
     "output_type": "display_data"
    },
    {
     "data": {
      "image/png": "[encoded data removed]",
      "text/plain": [
       "plot without title"
      ]
     },
     "metadata": {
      "image/png": {
       "height": 420,
       "width": 420
      }
     },
     "output_type": "display_data"
    }
   ],
   "source": [
    "barplot(posterior_B)\n",
    "barplot(posterior_C)\n",
    "barplot(posterior_D)\n",
    "barplot(posteriors_E)"
   ]
  },
  {
   "cell_type": "markdown",
   "metadata": {
    "slideshow": {
     "slide_type": "slide"
    }
   },
   "source": [
    "___G___) \n",
    "\n",
    "Assuming that our collection of sequenced bases is `AAATATAAAAAAATTTTAAATTA`, calculate the genotype posterior probabilities using the same priors as in point C and sequencing error rate of 0.05. What happens if we have more data? What is the __confidence__ in our genotype inference?"
   ]
  },
  {
   "cell_type": "code",
   "execution_count": 47,
   "metadata": {
    "slideshow": {
     "slide_type": "subslide"
    }
   },
   "outputs": [
    {
     "data": {
      "text/html": [
       "<style>\n",
       ".dl-inline {width: auto; margin:0; padding: 0}\n",
       ".dl-inline>dt, .dl-inline>dd {float: none; width: auto; display: inline-block}\n",
       ".dl-inline>dt::after {content: \":\\0020\"; padding-right: .5ex}\n",
       ".dl-inline>dt:not(:first-of-type) {padding-left: .5ex}\n",
       "</style><dl class=dl-inline><dt>AA</dt><dd>2.9015937164497e-07</dd><dt>AT</dt><dd>0.999999709840628</dd><dt>TT</dt><dd>5.019267096351e-21</dd></dl>\n"
      ],
      "text/latex": [
       "\\begin{description*}\n",
       "\\item[AA] 2.9015937164497e-07\n",
       "\\item[AT] 0.999999709840628\n",
       "\\item[TT] 5.019267096351e-21\n",
       "\\end{description*}\n"
      ],
      "text/markdown": [
       "AA\n",
       ":   2.9015937164497e-07AT\n",
       ":   0.999999709840628TT\n",
       ":   5.019267096351e-21\n",
       "\n"
      ],
      "text/plain": [
       "          AA           AT           TT \n",
       "2.901594e-07 9.999997e-01 5.019267e-21 "
      ]
     },
     "metadata": {},
     "output_type": "display_data"
    },
    {
     "data": {
      "text/html": [
       "1"
      ],
      "text/latex": [
       "1"
      ],
      "text/markdown": [
       "1"
      ],
      "text/plain": [
       "[1] 1"
      ]
     },
     "metadata": {},
     "output_type": "display_data"
    }
   ],
   "source": [
    "genom <- \"AAATATAAAAAAATTTTAAATTA\"\n",
    "P_G <- calcGenoLikes(genom, \"A\", \"T\", 0.05, FALSE)\n",
    "# Prior_G <- prior_C\n",
    "Prior_G <- c( (1-t)^2+i*t*(1-t), 2*t*(1-t)*(1-i), t^2+i*t*(1-t) )\n",
    "\n",
    "Posterior_G <- P_G*Prior_G / sum(Prior_G * P_G)\n",
    "Posterior_G\n",
    "sum(Posterior_G)"
   ]
  },
  {
   "cell_type": "markdown",
   "metadata": {
    "slideshow": {
     "slide_type": "slide"
    }
   },
   "source": [
    "___H)___ \n",
    "\n",
    "What happens if we have a lot  of data? Assume that your sequenced bases are\n",
    "`bases <- paste(c(rep(\"A\",1e3),rep(\"T\",1e3)), sep=\"\", collapse=\"\")`.\n",
    "Calculate the genotype likelihoods for this data.\n",
    "What is happening here?\n",
    "\n",
    "It is convenient to use numbers in log-scale and you can do that by selecting TRUE as the last parameter in the _calcGenoLikes_. \n",
    "Remember that if you want to calculate proper probabilities (in log) you have to [approximate](https://en.wikipedia.org/wiki/List_of_logarithmic_identities) the sum of logs.\n",
    "\n",
    "Without calculating posterior probabilities, what is the effect of the prior here in your opinion?"
   ]
  },
  {
   "cell_type": "code",
   "execution_count": 66,
   "metadata": {
    "slideshow": {
     "slide_type": "subslide"
    }
   },
   "outputs": [
    {
     "data": {
      "text/html": [
       "<style>\n",
       ".dl-inline {width: auto; margin:0; padding: 0}\n",
       ".dl-inline>dt, .dl-inline>dd {float: none; width: auto; display: inline-block}\n",
       ".dl-inline>dt::after {content: \":\\0020\"; padding-right: .5ex}\n",
       ".dl-inline>dt:not(:first-of-type) {padding-left: .5ex}\n",
       "</style><dl class=dl-inline><dt>AA</dt><dd>0</dd><dt>AT</dt><dd>0</dd><dt>TT</dt><dd>0</dd></dl>\n"
      ],
      "text/latex": [
       "\\begin{description*}\n",
       "\\item[AA] 0\n",
       "\\item[AT] 0\n",
       "\\item[TT] 0\n",
       "\\end{description*}\n"
      ],
      "text/markdown": [
       "AA\n",
       ":   0AT\n",
       ":   0TT\n",
       ":   0\n",
       "\n"
      ],
      "text/plain": [
       "AA AT TT \n",
       " 0  0  0 "
      ]
     },
     "metadata": {},
     "output_type": "display_data"
    },
    {
     "data": {
      "text/html": [
       "<style>\n",
       ".dl-inline {width: auto; margin:0; padding: 0}\n",
       ".dl-inline>dt, .dl-inline>dd {float: none; width: auto; display: inline-block}\n",
       ".dl-inline>dt::after {content: \":\\0020\"; padding-right: .5ex}\n",
       ".dl-inline>dt:not(:first-of-type) {padding-left: .5ex}\n",
       "</style><dl class=dl-inline><dt>AA</dt><dd>NaN</dd><dt>AT</dt><dd>NaN</dd><dt>TT</dt><dd>NaN</dd></dl>\n"
      ],
      "text/latex": [
       "\\begin{description*}\n",
       "\\item[AA] NaN\n",
       "\\item[AT] NaN\n",
       "\\item[TT] NaN\n",
       "\\end{description*}\n"
      ],
      "text/markdown": [
       "AA\n",
       ":   NaNAT\n",
       ":   NaNTT\n",
       ":   NaN\n",
       "\n"
      ],
      "text/plain": [
       " AA  AT  TT \n",
       "NaN NaN NaN "
      ]
     },
     "metadata": {},
     "output_type": "display_data"
    },
    {
     "data": {
      "text/html": [
       "<style>\n",
       ".dl-inline {width: auto; margin:0; padding: 0}\n",
       ".dl-inline>dt, .dl-inline>dd {float: none; width: auto; display: inline-block}\n",
       ".dl-inline>dt::after {content: \":\\0020\"; padding-right: .5ex}\n",
       ".dl-inline>dt:not(:first-of-type) {padding-left: .5ex}\n",
       "</style><dl class=dl-inline><dt>AA</dt><dd>-4145.82659873421</dd><dt>AT</dt><dd>-1456.0354064506</dd><dt>TT</dt><dd>-4149.21340737838</dd></dl>\n"
      ],
      "text/latex": [
       "\\begin{description*}\n",
       "\\item[AA] -4145.82659873421\n",
       "\\item[AT] -1456.0354064506\n",
       "\\item[TT] -4149.21340737838\n",
       "\\end{description*}\n"
      ],
      "text/markdown": [
       "AA\n",
       ":   -4145.82659873421AT\n",
       ":   -1456.0354064506TT\n",
       ":   -4149.21340737838\n",
       "\n"
      ],
      "text/plain": [
       "       AA        AT        TT \n",
       "-4145.827 -1456.035 -4149.213 "
      ]
     },
     "metadata": {},
     "output_type": "display_data"
    }
   ],
   "source": [
    "genom <- paste(c(rep(\"A\", 1e3), rep(\"T\", 1e3), sep=\"\", collapse=\"\"))\n",
    "\n",
    "P_H <- calcGenoLikes(genom, \"A\",\"T\", 0.05, FALSE)\n",
    "P_H\n",
    "\n",
    "Prior_H <- c( (1-t)^2+i*t*(1-t), 2*t*(1-t)*(1-i), t^2+i*t*(1-t) )\n",
    "\n",
    "posterior_H <- P_H*Prior_H / sum(P_H*Prior_H)\n",
    "posterior_H\n",
    "\n",
    "P_log <- calcGenoLikes(genom, \"A\", \"T\", 0.05, TRUE)\n",
    "\n",
    "P_log + log(Prior_H)\n"
   ]
  }
 ],
 "metadata": {
  "celltoolbar": "Slideshow",
  "kernelspec": {
   "display_name": "R",
   "language": "R",
   "name": "ir"
  },
  "language_info": {
   "codemirror_mode": "r",
   "file_extension": ".r",
   "mimetype": "text/x-r-source",
   "name": "R",
   "pygments_lexer": "r",
   "version": "4.0.4"
  }
 },
 "nbformat": 4,
 "nbformat_minor": 2
}
