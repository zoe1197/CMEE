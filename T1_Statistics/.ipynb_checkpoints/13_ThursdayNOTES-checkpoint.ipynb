{
 "cells": [
  {
   "cell_type": "markdown",
   "metadata": {},
   "source": [
    "# Repeatability with linear mixed models, and beyond"
   ]
  },
  {
   "cell_type": "markdown",
   "metadata": {},
   "source": [
    "* package needed: lme4()"
   ]
  },
  {
   "cell_type": "markdown",
   "metadata": {},
   "source": [
    "## Easier way of calculating repeatability \n",
    "**(Linear Mixed Model)**"
   ]
  },
  {
   "cell_type": "code",
   "execution_count": 3,
   "metadata": {},
   "outputs": [
    {
     "data": {
      "text/html": [
       "<table class=\"dataframe\">\n",
       "<caption>A data.frame: 6 × 29</caption>\n",
       "<thead>\n",
       "\t<tr><th></th><th scope=col>Date_dissected</th><th scope=col>Family</th><th scope=col>ID</th><th scope=col>Sample</th><th scope=col>Sex</th><th scope=col>Condition</th><th scope=col>Larval_diet</th><th scope=col>Femur_length</th><th scope=col>Tibia_Length</th><th scope=col>Tarsus_Length</th><th scope=col>⋯</th><th scope=col>Female_Anterior_Spermatheca_Width</th><th scope=col>Male_Proximal_surstyli_Length</th><th scope=col>Male_Distal_surstyli_Length</th><th scope=col>Male_Apodeme_Length</th><th scope=col>Male_Aedeagus_Length</th><th scope=col>Male_Anterior_processus_Length</th><th scope=col>Male_Processus_Length</th><th scope=col>Male_testis_area</th><th scope=col>MaleSperm_bundle_Length</th><th scope=col>Male_Femur_spine_length</th></tr>\n",
       "\t<tr><th></th><th scope=col>&lt;chr&gt;</th><th scope=col>&lt;chr&gt;</th><th scope=col>&lt;chr&gt;</th><th scope=col>&lt;chr&gt;</th><th scope=col>&lt;chr&gt;</th><th scope=col>&lt;chr&gt;</th><th scope=col>&lt;chr&gt;</th><th scope=col>&lt;dbl&gt;</th><th scope=col>&lt;dbl&gt;</th><th scope=col>&lt;dbl&gt;</th><th scope=col>⋯</th><th scope=col>&lt;dbl&gt;</th><th scope=col>&lt;dbl&gt;</th><th scope=col>&lt;dbl&gt;</th><th scope=col>&lt;dbl&gt;</th><th scope=col>&lt;dbl&gt;</th><th scope=col>&lt;dbl&gt;</th><th scope=col>&lt;dbl&gt;</th><th scope=col>&lt;dbl&gt;</th><th scope=col>&lt;dbl&gt;</th><th scope=col>&lt;dbl&gt;</th></tr>\n",
       "</thead>\n",
       "<tbody>\n",
       "\t<tr><th scope=row>1</th><td>18/10/2018</td><td>F1</td><td>FS-23</td><td>F1_F1_RW1</td><td>F</td><td>High</td><td>Rich</td><td>5.316</td><td>4.434</td><td>3.061</td><td>⋯</td><td>0.053</td><td>NA</td><td>NA</td><td>NA</td><td>NA</td><td>NA</td><td>NA</td><td>NA</td><td>NA</td><td>NA</td></tr>\n",
       "\t<tr><th scope=row>2</th><td>18/10/2018</td><td>F1</td><td>FS-23</td><td>F1_F1_RW2</td><td>F</td><td>High</td><td>Rich</td><td>5.327</td><td>4.431</td><td>3.049</td><td>⋯</td><td>0.053</td><td>NA</td><td>NA</td><td>NA</td><td>NA</td><td>NA</td><td>NA</td><td>NA</td><td>NA</td><td>NA</td></tr>\n",
       "\t<tr><th scope=row>3</th><td>18/10/2018</td><td>F1</td><td>FS-24</td><td>F1_F2_RW1</td><td>F</td><td>High</td><td>Rich</td><td>5.280</td><td>4.333</td><td>2.681</td><td>⋯</td><td>0.072</td><td>NA</td><td>NA</td><td>NA</td><td>NA</td><td>NA</td><td>NA</td><td>NA</td><td>NA</td><td>NA</td></tr>\n",
       "\t<tr><th scope=row>4</th><td>18/10/2018</td><td>F1</td><td>FS-24</td><td>F1_F2_RW2</td><td>F</td><td>High</td><td>Rich</td><td>5.287</td><td>4.297</td><td>2.642</td><td>⋯</td><td>0.070</td><td>NA</td><td>NA</td><td>NA</td><td>NA</td><td>NA</td><td>NA</td><td>NA</td><td>NA</td><td>NA</td></tr>\n",
       "\t<tr><th scope=row>5</th><td>18/10/2018</td><td>F1</td><td>FS-25</td><td>F1_F3_RW1</td><td>F</td><td>High</td><td>Rich</td><td>5.354</td><td>4.395</td><td>2.960</td><td>⋯</td><td>0.075</td><td>NA</td><td>NA</td><td>NA</td><td>NA</td><td>NA</td><td>NA</td><td>NA</td><td>NA</td><td>NA</td></tr>\n",
       "\t<tr><th scope=row>6</th><td>18/10/2018</td><td>F1</td><td>FS-25</td><td>F1_F3_RW2</td><td>F</td><td>High</td><td>Rich</td><td>5.347</td><td>4.349</td><td>2.942</td><td>⋯</td><td>0.073</td><td>NA</td><td>NA</td><td>NA</td><td>NA</td><td>NA</td><td>NA</td><td>NA</td><td>NA</td><td>NA</td></tr>\n",
       "</tbody>\n",
       "</table>\n"
      ],
      "text/latex": [
       "A data.frame: 6 × 29\n",
       "\\begin{tabular}{r|lllllllllllllllllllll}\n",
       "  & Date\\_dissected & Family & ID & Sample & Sex & Condition & Larval\\_diet & Femur\\_length & Tibia\\_Length & Tarsus\\_Length & ⋯ & Female\\_Anterior\\_Spermatheca\\_Width & Male\\_Proximal\\_surstyli\\_Length & Male\\_Distal\\_surstyli\\_Length & Male\\_Apodeme\\_Length & Male\\_Aedeagus\\_Length & Male\\_Anterior\\_processus\\_Length & Male\\_Processus\\_Length & Male\\_testis\\_area & MaleSperm\\_bundle\\_Length & Male\\_Femur\\_spine\\_length\\\\\n",
       "  & <chr> & <chr> & <chr> & <chr> & <chr> & <chr> & <chr> & <dbl> & <dbl> & <dbl> & ⋯ & <dbl> & <dbl> & <dbl> & <dbl> & <dbl> & <dbl> & <dbl> & <dbl> & <dbl> & <dbl>\\\\\n",
       "\\hline\n",
       "\t1 & 18/10/2018 & F1 & FS-23 & F1\\_F1\\_RW1 & F & High & Rich & 5.316 & 4.434 & 3.061 & ⋯ & 0.053 & NA & NA & NA & NA & NA & NA & NA & NA & NA\\\\\n",
       "\t2 & 18/10/2018 & F1 & FS-23 & F1\\_F1\\_RW2 & F & High & Rich & 5.327 & 4.431 & 3.049 & ⋯ & 0.053 & NA & NA & NA & NA & NA & NA & NA & NA & NA\\\\\n",
       "\t3 & 18/10/2018 & F1 & FS-24 & F1\\_F2\\_RW1 & F & High & Rich & 5.280 & 4.333 & 2.681 & ⋯ & 0.072 & NA & NA & NA & NA & NA & NA & NA & NA & NA\\\\\n",
       "\t4 & 18/10/2018 & F1 & FS-24 & F1\\_F2\\_RW2 & F & High & Rich & 5.287 & 4.297 & 2.642 & ⋯ & 0.070 & NA & NA & NA & NA & NA & NA & NA & NA & NA\\\\\n",
       "\t5 & 18/10/2018 & F1 & FS-25 & F1\\_F3\\_RW1 & F & High & Rich & 5.354 & 4.395 & 2.960 & ⋯ & 0.075 & NA & NA & NA & NA & NA & NA & NA & NA & NA\\\\\n",
       "\t6 & 18/10/2018 & F1 & FS-25 & F1\\_F3\\_RW2 & F & High & Rich & 5.347 & 4.349 & 2.942 & ⋯ & 0.073 & NA & NA & NA & NA & NA & NA & NA & NA & NA\\\\\n",
       "\\end{tabular}\n"
      ],
      "text/markdown": [
       "\n",
       "A data.frame: 6 × 29\n",
       "\n",
       "| <!--/--> | Date_dissected &lt;chr&gt; | Family &lt;chr&gt; | ID &lt;chr&gt; | Sample &lt;chr&gt; | Sex &lt;chr&gt; | Condition &lt;chr&gt; | Larval_diet &lt;chr&gt; | Femur_length &lt;dbl&gt; | Tibia_Length &lt;dbl&gt; | Tarsus_Length &lt;dbl&gt; | ⋯ ⋯ | Female_Anterior_Spermatheca_Width &lt;dbl&gt; | Male_Proximal_surstyli_Length &lt;dbl&gt; | Male_Distal_surstyli_Length &lt;dbl&gt; | Male_Apodeme_Length &lt;dbl&gt; | Male_Aedeagus_Length &lt;dbl&gt; | Male_Anterior_processus_Length &lt;dbl&gt; | Male_Processus_Length &lt;dbl&gt; | Male_testis_area &lt;dbl&gt; | MaleSperm_bundle_Length &lt;dbl&gt; | Male_Femur_spine_length &lt;dbl&gt; |\n",
       "|---|---|---|---|---|---|---|---|---|---|---|---|---|---|---|---|---|---|---|---|---|---|\n",
       "| 1 | 18/10/2018 | F1 | FS-23 | F1_F1_RW1 | F | High | Rich | 5.316 | 4.434 | 3.061 | ⋯ | 0.053 | NA | NA | NA | NA | NA | NA | NA | NA | NA |\n",
       "| 2 | 18/10/2018 | F1 | FS-23 | F1_F1_RW2 | F | High | Rich | 5.327 | 4.431 | 3.049 | ⋯ | 0.053 | NA | NA | NA | NA | NA | NA | NA | NA | NA |\n",
       "| 3 | 18/10/2018 | F1 | FS-24 | F1_F2_RW1 | F | High | Rich | 5.280 | 4.333 | 2.681 | ⋯ | 0.072 | NA | NA | NA | NA | NA | NA | NA | NA | NA |\n",
       "| 4 | 18/10/2018 | F1 | FS-24 | F1_F2_RW2 | F | High | Rich | 5.287 | 4.297 | 2.642 | ⋯ | 0.070 | NA | NA | NA | NA | NA | NA | NA | NA | NA |\n",
       "| 5 | 18/10/2018 | F1 | FS-25 | F1_F3_RW1 | F | High | Rich | 5.354 | 4.395 | 2.960 | ⋯ | 0.075 | NA | NA | NA | NA | NA | NA | NA | NA | NA |\n",
       "| 6 | 18/10/2018 | F1 | FS-25 | F1_F3_RW2 | F | High | Rich | 5.347 | 4.349 | 2.942 | ⋯ | 0.073 | NA | NA | NA | NA | NA | NA | NA | NA | NA |\n",
       "\n"
      ],
      "text/plain": [
       "  Date_dissected Family ID    Sample    Sex Condition Larval_diet Femur_length\n",
       "1 18/10/2018     F1     FS-23 F1_F1_RW1 F   High      Rich        5.316       \n",
       "2 18/10/2018     F1     FS-23 F1_F1_RW2 F   High      Rich        5.327       \n",
       "3 18/10/2018     F1     FS-24 F1_F2_RW1 F   High      Rich        5.280       \n",
       "4 18/10/2018     F1     FS-24 F1_F2_RW2 F   High      Rich        5.287       \n",
       "5 18/10/2018     F1     FS-25 F1_F3_RW1 F   High      Rich        5.354       \n",
       "6 18/10/2018     F1     FS-25 F1_F3_RW2 F   High      Rich        5.347       \n",
       "  Tibia_Length Tarsus_Length ⋯ Female_Anterior_Spermatheca_Width\n",
       "1 4.434        3.061         ⋯ 0.053                            \n",
       "2 4.431        3.049         ⋯ 0.053                            \n",
       "3 4.333        2.681         ⋯ 0.072                            \n",
       "4 4.297        2.642         ⋯ 0.070                            \n",
       "5 4.395        2.960         ⋯ 0.075                            \n",
       "6 4.349        2.942         ⋯ 0.073                            \n",
       "  Male_Proximal_surstyli_Length Male_Distal_surstyli_Length Male_Apodeme_Length\n",
       "1 NA                            NA                          NA                 \n",
       "2 NA                            NA                          NA                 \n",
       "3 NA                            NA                          NA                 \n",
       "4 NA                            NA                          NA                 \n",
       "5 NA                            NA                          NA                 \n",
       "6 NA                            NA                          NA                 \n",
       "  Male_Aedeagus_Length Male_Anterior_processus_Length Male_Processus_Length\n",
       "1 NA                   NA                             NA                   \n",
       "2 NA                   NA                             NA                   \n",
       "3 NA                   NA                             NA                   \n",
       "4 NA                   NA                             NA                   \n",
       "5 NA                   NA                             NA                   \n",
       "6 NA                   NA                             NA                   \n",
       "  Male_testis_area MaleSperm_bundle_Length Male_Femur_spine_length\n",
       "1 NA               NA                      NA                     \n",
       "2 NA               NA                      NA                     \n",
       "3 NA               NA                      NA                     \n",
       "4 NA               NA                      NA                     \n",
       "5 NA               NA                      NA                     \n",
       "6 NA               NA                      NA                     "
      ]
     },
     "metadata": {},
     "output_type": "display_data"
    },
    {
     "data": {
      "text/plain": [
       "Linear mixed model fit by REML ['lmerMod']\n",
       "Formula: Femur_length ~ 1 + (1 | ID)\n",
       "   Data: data\n",
       "\n",
       "REML criterion at convergence: -247.9\n",
       "\n",
       "Scaled residuals: \n",
       "     Min       1Q   Median       3Q      Max \n",
       "-3.09822 -0.38745 -0.00387  0.36983  3.08564 \n",
       "\n",
       "Random effects:\n",
       " Groups   Name        Variance  Std.Dev.\n",
       " ID       (Intercept) 1.2570822 1.12120 \n",
       " Residual             0.0003399 0.01844 \n",
       "Number of obs: 360, groups:  ID, 180\n",
       "\n",
       "Fixed effects:\n",
       "            Estimate Std. Error t value\n",
       "(Intercept)  4.64978    0.08357   55.64"
      ]
     },
     "metadata": {},
     "output_type": "display_data"
    },
    {
     "data": {
      "text/html": [
       "0.99972968504371"
      ],
      "text/latex": [
       "0.99972968504371"
      ],
      "text/markdown": [
       "0.99972968504371"
      ],
      "text/plain": [
       "[1] 0.9997297"
      ]
     },
     "metadata": {},
     "output_type": "display_data"
    }
   ],
   "source": [
    "# read the data\n",
    "data <- read.delim(\"13_Wylde_single.mounted.txt\", header = T)\n",
    "head(data)\n",
    "# loading the package\n",
    "library(lme4)\n",
    "\n",
    "# investigate the repeatability of Femur length:\n",
    "lmm1<-lmer(Femur_length~1+(1|ID), data)\n",
    "summary(lmm1)\n",
    "r <- 1.2570822/(1.2570822+0.0003399) \n",
    "# variance[1]/(variance[1]+variance[2])\n",
    "r"
   ]
  },
  {
   "cell_type": "markdown",
   "metadata": {},
   "source": [
    "$$r = \\frac{Variance[1]}{variance[1]+variance[2]}$$"
   ]
  }
 ],
 "metadata": {
  "kernelspec": {
   "display_name": "R",
   "language": "R",
   "name": "ir"
  },
  "language_info": {
   "codemirror_mode": "r",
   "file_extension": ".r",
   "mimetype": "text/x-r-source",
   "name": "R",
   "pygments_lexer": "r",
   "version": "4.0.4"
  }
 },
 "nbformat": 4,
 "nbformat_minor": 4
}
