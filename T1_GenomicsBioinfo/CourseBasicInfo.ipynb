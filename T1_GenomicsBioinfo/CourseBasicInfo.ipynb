{
 "cells": [
  {
   "cell_type": "markdown",
   "metadata": {},
   "source": [
    "# Course Basic Info\n",
    "Convenors: Matteo Fumagalli\n",
    "\n",
    "Week: 6\n",
    "\n",
    "Dates: **2020-11-09 to 2020-11-13**\n",
    "\n",
    "Courses: MSc EA, MSc EEC, MRes EEC, MRes TFE, MSc CMEE, MRes CMEE, MSc TBE, MRes Biosys\n",
    "\n",
    "## Description\n",
    "Population genomic data contain valuable information on how species relate to each other and how they evolved and adapted to their environment. As such, the study how genetic diversity within species is central to addressing many questions in evolution, ecology, and conservation. New sequencing technologies allow for the generation of large-scale genomic data which are pivotal for an understanding of population processes at deep resolutions. The goal of this module is to introduce students to the types of questions that can be addressed with population genomic data, and the theory and computational methodologies that are available for answering these questions.\n",
    "\n",
    "## Aims\n",
    "This module provides an understanding of:\n",
    "\n",
    "genomic data collection methods, and how to choose the data collection technique most appropriate to your question.\n",
    "the wealth of data available to biologists in public genomic databases.\n",
    "how genetic structure develops within and between populations and how to characterise it.\n",
    "how demographic history affects genomic variation, and how to infer past population expansions and contractions from genomic data.\n",
    "how migration affects genomic variation, and how patterns of gene flow can be inferred from genomic data.\n",
    "how natural selection affects genomic variation, and how selection can be identified from genomic data.\n",
    "## Reading\n",
    "(optional) Nielsen, Slatkin, 2013. An Introduction to Population Genetics: Theory and Applications. Oxford University Press, Oxford.\n",
    "\n",
    "A useful primer in genomics can be found here [Computational Genomics with R](http://compgenomr.github.io/book/). I advice students who didn't study biology in their undergraduate course to go over chapters 1.1 and 1.3 as a gentle introduction to some basic concepts of genomics we will discuss during this module.\n",
    "\n",
    "## Module delivery\n",
    "The content will be provided via online lectures and practicals. Lectures will be either live or recorded. Nevertheless, the online material will be available to all and will cover all content.\n",
    "\n",
    "### Live events\n",
    "\n",
    "Live sessions will be delivered in the \"Live Events\" channel in \"Genomics and Bioinformatics -LB\" Teams group. A direct link is [here](https://teams.microsoft.com/dl/launcher/launcher.html?url=%2F_%23%2Fl%2Fchannel%2F19%3A2d55f09f6f7b448d9625c576e3a9aaa8%40thread.tacv2%2FLive%2520Events%3FgroupId%3Df4b42d01-7a8c-454a-a260-5427e134789a%26tenantId%3D2b897507-ee8c-4575-830b-4f8267c3d307&type=channel&deeplinkId=a855916a-509e-4073-8609-7a99bdeec225&directDl=true&msLaunch=true&enableMobilePage=true&suppressPrompt=true).\n",
    "\n",
    "### RStudio Cloud [link](https://rstudio.cloud/spaces/99148/join?access_code=veyKoTgVazjSMrjNhGrJftQFVw9D0f4DhG%2F2ZxxK)\n",
    "\n",
    "If you wish to perform the practical exercise on RStudio Cloud (not mandatory) you can find the projects for each day at the following\n",
    "\n",
    "\n",
    "\n"
   ]
  },
  {
   "cell_type": "markdown",
   "metadata": {},
   "source": [
    "# Resources\n",
    "**Additional reading material**\n",
    "\n",
    "- [YouTube link](https://www.youtube.com/watch?v=Nq_BGzfE-M0) to Prof Dame Janet Thornton's lecture: Enzymes, evolution and disease: 50 years of Bioinformatics\n",
    "\n",
    "- Graham Coop (UC Davis) devoted two pages of his book in population genetics on \"Genetics, Eugenics, and Scientific Racism.\". These pages are available [here](https://bb.imperial.ac.uk/bbcswebdav/pid-1991216-dt-content-rid-7603148_1/courses/LIFE-200902105558.202010/eugenics%281%29.pdf) and contain both historical facts and reflections on the role of population genetics in modern day racism.  Rori Rohlfs (SFSU) gave a punchy seminar on the topic and its recording is available [here](https://www.youtube.com/watch?v=ZnmhcPh6WTQ&t=5s).\n",
    "\n",
    "- A [review](https://bb.imperial.ac.uk/bbcswebdav/pid-1991216-dt-content-rid-7633532_1/courses/LIFE-200902105558.202010/048603v1.full.pdf) on third-generation sequencing technologies can be found [here](https://bb.imperial.ac.uk/bbcswebdav/pid-1991216-dt-content-rid-7633533_1/courses/LIFE-200902105558.202010/1-s2.0-S0006320714004443-main.pdf) .\n",
    "\n",
    "- \"Environmental DNA – An emerging tool in conservation for monitoring past and present biodiversity\" is available [here](https://bb.imperial.ac.uk/bbcswebdav/pid-1991216-dt-content-rid-7633533_1/courses/LIFE-200902105558.202010/1-s2.0-S0006320714004443-main.pdf) .\n",
    "\n",
    "- \"Mitochondrial metagenomics: letting the genes out of the bottle\" is available [here](https://bb.imperial.ac.uk/bbcswebdav/pid-1991216-dt-content-rid-7633534_1/courses/LIFE-200902105558.202010/CramptonPlattGigascience_art%253A10.1186%252Fs13742-016-0120-y.pdf) .\n",
    "\n",
    "- \"A comparative genomics multitool for scientific discovery and conservation\" is available at this [link](https://bb.imperial.ac.uk/bbcswebdav/pid-1991216-dt-content-rid-7642685_1/courses/LIFE-200902105558.202010/s41586-020-2876-6.pdf) .\n",
    "\n",
    "Please use the dedicated Forum in PG Life Sciences Core Skills Module for any queries after the end of this module."
   ]
  },
  {
   "cell_type": "markdown",
   "metadata": {},
   "source": [
    "[Monday](https://bb.imperial.ac.uk/webapps/blackboard/content/listContent.jsp?course_id=_25383_1&content_id=_1986439_1)\n",
    "\n",
    "[Tuesday](https://bb.imperial.ac.uk/webapps/blackboard/content/listContent.jsp?course_id=_25383_1&content_id=_1991230_1)\n",
    "\n",
    "[Wednesday](https://bb.imperial.ac.uk/webapps/blackboard/content/listContent.jsp?course_id=_25383_1&content_id=_1991270_1)\n",
    "\n",
    "[Thursday](https://bb.imperial.ac.uk/webapps/blackboard/content/listContent.jsp?course_id=_25383_1&content_id=_1991290_1)\n",
    "\n",
    "[Friday](https://bb.imperial.ac.uk/webapps/blackboard/content/listContent.jsp?course_id=_25383_1&content_id=_1991347_1)\n",
    "\n",
    "[Firday_Seminar](https://media.unh.edu/media/Anna+Tigano%27s+Zoom+Meeting/1_hngkk2ia)"
   ]
  }
 ],
 "metadata": {
  "kernelspec": {
   "display_name": "R",
   "language": "R",
   "name": "ir"
  },
  "language_info": {
   "codemirror_mode": "r",
   "file_extension": ".r",
   "mimetype": "text/x-r-source",
   "name": "R",
   "pygments_lexer": "r",
   "version": "4.0.4"
  }
 },
 "nbformat": 4,
 "nbformat_minor": 4
}
