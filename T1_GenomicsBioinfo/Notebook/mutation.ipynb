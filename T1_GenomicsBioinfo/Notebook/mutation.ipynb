{
 "cells": [
  {
   "cell_type": "markdown",
   "metadata": {},
   "source": [
    "# Effect of mutations on allele frequency"
   ]
  },
  {
   "cell_type": "markdown",
   "metadata": {},
   "source": [
    "## 1) With mutation rate a->A"
   ]
  },
  {
   "cell_type": "code",
   "execution_count": null,
   "metadata": {},
   "outputs": [],
   "source": [
    "# mutation rate\n",
    "mu <- 1e-2\n",
    "# over 1000 generations\n",
    "fA <- rep(NA, 1000)\n",
    "# starting allele frequency is 0\n",
    "fA[1] <- 0"
   ]
  },
  {
   "cell_type": "code",
   "execution_count": null,
   "metadata": {},
   "outputs": [],
   "source": [
    "for (t in 1:999) fA[t+1] <- fA[t] + mu*(1-fA[t])"
   ]
  },
  {
   "cell_type": "code",
   "execution_count": null,
   "metadata": {},
   "outputs": [],
   "source": [
    "plot(x=1:1000, y=fA, type=\"l\", xlab=\"generations\", lty=1, ylim=c(0,1), ylab=\"Allele frequency\")\n",
    "lines(x=1:1000, y=1-fA, lty=2)"
   ]
  },
  {
   "cell_type": "markdown",
   "metadata": {},
   "source": [
    "## 2) With equal mutation rates a->A and A->a"
   ]
  },
  {
   "cell_type": "code",
   "execution_count": null,
   "metadata": {},
   "outputs": [],
   "source": [
    "# mutation rates\n",
    "mu_aA <- 1e-2\n",
    "mu_Aa <- 1e-2\n",
    "# over 1000 generations\n",
    "fA <- rep(NA, 1000)\n",
    "# starting allele frequency\n",
    "fA[1] <- 0"
   ]
  },
  {
   "cell_type": "code",
   "execution_count": null,
   "metadata": {},
   "outputs": [],
   "source": [
    "for (t in 1:999) fA[t+1] <- (1-mu_Aa)*fA[t] + mu_aA*(1-fA[t])"
   ]
  },
  {
   "cell_type": "code",
   "execution_count": null,
   "metadata": {},
   "outputs": [],
   "source": [
    "plot(x=1:1000, y=fA, type=\"l\", lty=1, ylim=c(0,1), ylab=\"Allele frequency\", xlab=\"generations\")\n",
    "lines(x=1:1000, y=1-fA, lty=2)"
   ]
  },
  {
   "cell_type": "markdown",
   "metadata": {},
   "source": [
    "## 3) With unequal mutation rates a->A and A->a"
   ]
  },
  {
   "cell_type": "code",
   "execution_count": null,
   "metadata": {},
   "outputs": [],
   "source": [
    "mu_aA <- 2e-2\n",
    "mu_Aa <- 1e-2\n",
    "fA <- rep(NA, 1000)\n",
    "fA[1] <- 0"
   ]
  },
  {
   "cell_type": "code",
   "execution_count": null,
   "metadata": {},
   "outputs": [],
   "source": [
    "for (t in 1:999) fA[t+1] <- (1-mu_Aa)*fA[t] + mu_aA*(1-fA[t])"
   ]
  },
  {
   "cell_type": "code",
   "execution_count": null,
   "metadata": {},
   "outputs": [],
   "source": [
    "plot(x=1:1000, y=fA, type=\"l\", lty=1, ylim=c(0,1), ylab=\"Allele frequency\", xlab=\"generations\")\n",
    "lines(x=1:1000, y=1-fA, lty=2)\n",
    "cat(\"final frequency:\", fA[length(fA)])"
   ]
  }
 ],
 "metadata": {
  "kernelspec": {
   "display_name": "R",
   "language": "R",
   "name": "ir"
  },
  "language_info": {
   "codemirror_mode": "r",
   "file_extension": ".r",
   "mimetype": "text/x-r-source",
   "name": "R",
   "pygments_lexer": "r",
   "version": "3.6.3"
  }
 },
 "nbformat": 4,
 "nbformat_minor": 2
}
