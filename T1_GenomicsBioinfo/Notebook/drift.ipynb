{
 "cells": [
  {
   "cell_type": "markdown",
   "metadata": {},
   "source": [
    "# Expected allele frequency under Wright-Fisher model"
   ]
  },
  {
   "cell_type": "markdown",
   "metadata": {},
   "source": [
    "## 1) Over one generation\n",
    "\n",
    "We assume to have 50 diploid individuals and an allele frequency of 0.25."
   ]
  },
  {
   "cell_type": "code",
   "execution_count": null,
   "metadata": {},
   "outputs": [],
   "source": [
    "N <- 50\n",
    "fA <- 0.25"
   ]
  },
  {
   "cell_type": "markdown",
   "metadata": {},
   "source": [
    "A binomial distribution models the sampling with replacement of gene copies.\n",
    "The next cells illustrate how to perform a random sampling from a binomial distribution with 2N samples and probability of \"success\" equal to fA. Since we are interested in frequencies and not counts, we then divided by 2N."
   ]
  },
  {
   "cell_type": "code",
   "execution_count": null,
   "metadata": {},
   "outputs": [],
   "source": [
    "rbinom(1, 2*N, fA) / (2*N)"
   ]
  },
  {
   "cell_type": "markdown",
   "metadata": {},
   "source": [
    "If we assume to repeat the experiment many times and calculate the average frequency, then..."
   ]
  },
  {
   "cell_type": "code",
   "execution_count": null,
   "metadata": {},
   "outputs": [],
   "source": [
    "mean( rbinom(20, 2*N, fA) / (2*N) )"
   ]
  },
  {
   "cell_type": "code",
   "execution_count": null,
   "metadata": {},
   "outputs": [],
   "source": [
    "mean( rbinom(1e5, 2*N, fA) / (2*N) )"
   ]
  },
  {
   "cell_type": "markdown",
   "metadata": {},
   "source": [
    "meaning that after a generation the expected allele frequency does not change."
   ]
  },
  {
   "cell_type": "markdown",
   "metadata": {},
   "source": [
    "## 2) Over many generations\n",
    "\n",
    "Scenario similar to above, with a starting allele frequency of 0.50, 2N individuals and 100 generations."
   ]
  },
  {
   "cell_type": "code",
   "execution_count": null,
   "metadata": {},
   "outputs": [],
   "source": [
    "N <- 50\n",
    "# 100 generations\n",
    "fA <- rep(NA, 100)\n",
    "# at t=0\n",
    "fA[1] <- 0.5"
   ]
  },
  {
   "cell_type": "markdown",
   "metadata": {},
   "source": [
    "We repeat the sampling procedure at each generation."
   ]
  },
  {
   "cell_type": "code",
   "execution_count": null,
   "metadata": {},
   "outputs": [],
   "source": [
    "for (t in 1:99) fA[t+1] <- rbinom(1, 2*N, fA[t]) / (2*N)"
   ]
  },
  {
   "cell_type": "code",
   "execution_count": null,
   "metadata": {},
   "outputs": [],
   "source": [
    "plot(x=1:100, y=fA, type=\"l\", ylim=c(0,1))"
   ]
  },
  {
   "cell_type": "markdown",
   "metadata": {},
   "source": [
    "Wasn't the expected allele frequency supposed not to change after each generation? What's happening?\n",
    "\n",
    "Let's assume that we repeat the whole history for 100 generations many times (i.e. 20) and record the trajectory of the allele frequency."
   ]
  },
  {
   "cell_type": "code",
   "execution_count": null,
   "metadata": {},
   "outputs": [],
   "source": [
    "N <- 50\n",
    "for (j in 1:20) {\n",
    "    fA <- rep(NA, 100)\n",
    "    fA[1] <- 0.5\n",
    "    for (t in 1:99) fA[t+1] <- rbinom(1, 2*N, fA[t]) / (2*N)\n",
    "    if (j==1) plot(x=1:100, y=fA, xlab=\"generations\", type=\"l\", ylim=c(0,1), col=rainbow(20)[j]) else lines(x=1:100, y=fA, col=rainbow(20)[j])\n",
    "}"
   ]
  },
  {
   "cell_type": "markdown",
   "metadata": {},
   "source": [
    "## 3) Effect of population size\n",
    "\n",
    "Let's consider the effect of population size on the drift process."
   ]
  },
  {
   "cell_type": "code",
   "execution_count": null,
   "metadata": {},
   "outputs": [],
   "source": [
    "# small population (blue)\n",
    "N <- 10\n",
    "for (j in 1:10) {\n",
    "    fA <- rep(NA, 100); fA[1] <- 0.5\n",
    "    for (t in 1:99) fA[t+1] <- rbinom(1, 2*N, fA[t]) / (2*N)\n",
    "    if (j==1) plot(x=1:100, y=fA, type=\"l\", ylim=c(0,1), col=\"blue\") else lines(x=1:100, y=fA, col=\"blue\")\n",
    "}\n",
    "\n",
    "# large population (red)\n",
    "N <- 1000\n",
    "for (j in 1:10) {\n",
    "    fA <- rep(NA, 100); fA[1] <- 0.5\n",
    "    for (t in 1:99) fA[t+1] <- rbinom(1, 2*N, fA[t]) / (2*N)\n",
    "    lines(x=1:100, y=fA, col=\"red\")\n",
    "}"
   ]
  }
 ],
 "metadata": {
  "kernelspec": {
   "display_name": "R",
   "language": "R",
   "name": "ir"
  },
  "language_info": {
   "codemirror_mode": "r",
   "file_extension": ".r",
   "mimetype": "text/x-r-source",
   "name": "R",
   "pygments_lexer": "r",
   "version": "4.0.4"
  }
 },
 "nbformat": 4,
 "nbformat_minor": 2
}
