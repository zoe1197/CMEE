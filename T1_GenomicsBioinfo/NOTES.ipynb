{
 "cells": [
  {
   "cell_type": "markdown",
   "metadata": {},
   "source": [
    "# Terminology\n",
    "- nucleus 核\n",
    "- chromosome\n",
    "- nucleotide 核苷酸\n",
    "- Hydrogen bond 氢键\n",
    "- Exon\n",
    "- Intron\n",
    "- Single nucleotide polymorphism (SNP)\n",
    "\n",
    "\n",
    "- *phosphate*\n",
    "- *phosphate group* 磷酸基\n",
    "- *deoxyribose* 脱氧核糖\n",
    "- *nitrogen base* 含氮碱基\n",
    "\n",
    "- *Thymine*\n",
    "- *Adenine*\n",
    "- *Cytosine*\n",
    "- *Guanine*\n",
    "\n",
    "\n",
    "- genotype frequency\n",
    "- allel frequency\n",
    "\n",
    "gene (functional unit)\n",
    "[high_light](http://compgenomr.github.io/book/shaping-the-genome-dna-mutation.html)"
   ]
  },
  {
   "cell_type": "markdown",
   "metadata": {},
   "source": [
    "## Monday\n",
    "(**genetic drift, mutation and divergence**)\n",
    "\n",
    "### Types of genetic data\n",
    "Population genetics is applicable to all genetic variants that can be\n",
    "distinguished by some means and that can be transmitted from\n",
    "parents to offspring.\n",
    "\n",
    "Any variants with these properties are called alleles:\n",
    "- single nucleotide polymorphism,\n",
    "- insertion/deletion,\n",
    "- microsatellites.\n",
    "\n",
    "**Terminology**\n",
    "- allele: distinguishable and heritable (SNP, indel, microsat)\n",
    "- locus: any position (or unit) in the genome with one or more alleles\n",
    "- genotype: combination of alleles carried by an individual in a particular locus\n",
    "\n",
    "e.g. an individual has A and G alleles, and therefore has AG\n",
    "genotype, at locus in position 8,789,654 of chromosome 1.\n",
    "\n",
    "### Deviations from HWE\n",
    "- Assortative mating: not random with respect to genotype\n",
    "- Inbreeding: mating of related individuals\n",
    "- Population structure: sample of individuals from two or more subpopulations\n",
    "- Natural selection\n",
    "\n",
    "#### Population structure\n",
    "- population subdivision\n",
    "- continuous spatial distribution of individuals\n",
    "- migration from an unsampled population\n",
    "\n",
    "### HWE:Hardy–Weinberg Equilibrium\n",
    "Inbreeding Coefficient:\n",
    "$$F = \\frac{2f_Af_a-f_{Aa}}{2f_Af_a}$$\n",
    "if F = 0 the population is in HWE, if F = 1 there are no heterozygotes.\n",
    "\n",
    "### Testing for deviation from HWE\n",
    "$$\\chi^2 = \\sum_{i=1}^{k}\\frac{(E_i-O_i)^2}{E_i}$$\n",
    "* observed values($O_i$, genotype counts)\n",
    "* expected values($E_i$, expected genotype counts under HWE\n",
    "* degrees of freedom: 3-1-1=1 (for searching the $\\chi^2$ table values)\n",
    "\n",
    "if $\\chi^2$ is large enough, we reject the null hypothesis(genotype frequencies follow those predicted by HWE).\n",
    "\n"
   ]
  },
  {
   "cell_type": "markdown",
   "metadata": {},
   "source": [
    "## Tuesday (Genetic Drift)\n",
    "\n",
    "**The three most important factors that cause allele frequencies to change are**\n",
    "- natural selection\n",
    "- mutations \n",
    "- **genetic drift**\n",
    "\n",
    "### Wright-Fisher model\n",
    "Assumptions:\n",
    "- haploid population\n",
    "- asexual (no mating)\n",
    "- discrete generations\n",
    "\n",
    "*\n",
    "- The distribution of offspring in generation t + 1 is given by a **binomial distribution**\n",
    "- Under the Wright-Fisher model, we can easily characterise the change in allele frequency mathematically.\n",
    "\n",
    "$$E[f_A(t+1)] = f_A(t)$$"
   ]
  },
  {
   "cell_type": "markdown",
   "metadata": {},
   "source": [
    "Later notes on [PPT](https://drive.google.com/drive/u/0/folders/1hE0-CBxG_lgpQpFrO2kCKx42UO9Z91ON)"
   ]
  }
 ],
 "metadata": {
  "kernelspec": {
   "display_name": "R",
   "language": "R",
   "name": "ir"
  },
  "language_info": {
   "codemirror_mode": "r",
   "file_extension": ".r",
   "mimetype": "text/x-r-source",
   "name": "R",
   "pygments_lexer": "r",
   "version": "4.0.4"
  }
 },
 "nbformat": 4,
 "nbformat_minor": 4
}
