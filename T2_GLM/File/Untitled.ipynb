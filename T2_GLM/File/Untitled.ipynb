{
 "cells": [
  {
   "cell_type": "markdown",
   "metadata": {},
   "source": [
    "\n",
    "# From Wikipedia\n",
    "**2021-1.18-1.22**\n",
    "\n",
    "Generalized linear models were formulated by John Nelder and Robert Wedderburn as a way of unifying various other statistical models, including **linear regression, logistic regression and Poisson regression .**"
   ]
  }
 ],
 "metadata": {
  "kernelspec": {
   "display_name": "R",
   "language": "R",
   "name": "ir"
  },
  "language_info": {
   "codemirror_mode": "r",
   "file_extension": ".r",
   "mimetype": "text/x-r-source",
   "name": "R",
   "pygments_lexer": "r",
   "version": "4.0.4"
  }
 },
 "nbformat": 4,
 "nbformat_minor": 4
}
