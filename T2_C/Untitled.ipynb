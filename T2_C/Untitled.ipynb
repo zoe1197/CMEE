{
 "cells": [
  {
   "cell_type": "code",
   "execution_count": 12,
   "metadata": {},
   "outputs": [
    {
     "name": "stderr",
     "output_type": "stream",
     "text": [
      "[C kernel] GCC exited with code 1, the executable will not be executed"
     ]
    }
   ],
   "source": [
    "#include <stdio.h>\n",
    "#include <stdlib.h> // Preprocessor dirs on separate lines\n",
    "int main(void)\n",
    "struct node {\n",
    "int index;\n",
    "void *data;\n",
    "struct node *next;\n",
    "};\n",
    "/**\n",
    "A function to create memory for a single node\n",
    "*/\n",
    "struct node *create_node(void)\n",
    "{\n",
    "struct node *newnd = malloc(sizeof(struct node *));\n",
    "return newnd;\n",
    "}\n",
    "\n",
    "struct node ** build_linked_list(int nelems)\n",
    "{\n",
    "int i = 0;\n",
    "struct node **ndlist;\n",
    "ndlist = malloc(nelems * sizeof(struct node *));\n",
    "for (i = 0; i < nelems-1; ++i) {\n",
    "ndlist[i]->next = ndlist[i + 1];\n",
    "}\n",
    "ndlist[i]->next = NULL;\n",
    "return ndlist;\n",
    "}"
   ]
  },
  {
   "cell_type": "code",
   "execution_count": 3,
   "metadata": {},
   "outputs": [
    {
     "name": "stderr",
     "output_type": "stream",
     "text": [
      "/tmp/tmp49zww7h7.c: In function ‘create_node’:\n",
      "/tmp/tmp49zww7h7.c:6:22: warning: implicit declaration of function ‘malloc’ [-Wimplicit-function-declaration]\n",
      "    6 | struct node *newnd = malloc(sizeof(struct node *));\n",
      "      |                      ^~~~~~\n",
      "/tmp/tmp49zww7h7.c:6:22: warning: incompatible implicit declaration of built-in function ‘malloc’\n",
      "/tmp/tmp49zww7h7.c:1:1: note: include ‘<stdlib.h>’ or provide a declaration of ‘malloc’\n",
      "  +++ |+#include <stdlib.h>\n",
      "    1 | /**\n",
      "/tmp/tmp49zww7h7.c: In function ‘build_linked_list’:\n",
      "/tmp/tmp49zww7h7.c:13:10: warning: incompatible implicit declaration of built-in function ‘malloc’\n",
      "   13 | ndlist = malloc(nelems * sizeof(struct node *));\n",
      "      |          ^~~~~~\n",
      "/tmp/tmp49zww7h7.c:13:10: note: include ‘<stdlib.h>’ or provide a declaration of ‘malloc’\n",
      "/tmp/tmp49zww7h7.c:15:10: error: dereferencing pointer to incomplete type ‘struct node’\n",
      "   15 | ndlist[i]->next = ndlist[i + 1];\n",
      "      |          ^~\n",
      "/tmp/tmp49zww7h7.c:17:19: error: ‘NULL’ undeclared (first use in this function)\n",
      "   17 | ndlist[i]->next = NULL;\n",
      "      |                   ^~~~\n",
      "/tmp/tmp49zww7h7.c:1:1: note: ‘NULL’ is defined in header ‘<stddef.h>’; did you forget to ‘#include <stddef.h>’?\n",
      "  +++ |+#include <stddef.h>\n",
      "    1 | /**\n",
      "/tmp/tmp49zww7h7.c:17:19: note: each undeclared identifier is reported only once for each function it appears in\n",
      "   17 | ndlist[i]->next = NULL;\n",
      "      |                   ^~~~\n",
      "[C kernel] GCC exited with code 1, the executable will not be executed"
     ]
    }
   ],
   "source": []
  }
 ],
 "metadata": {
  "kernelspec": {
   "display_name": "C",
   "language": "c",
   "name": "c"
  },
  "language_info": {
   "file_extension": ".c",
   "mimetype": "text/plain",
   "name": "c"
  }
 },
 "nbformat": 4,
 "nbformat_minor": 4
}
