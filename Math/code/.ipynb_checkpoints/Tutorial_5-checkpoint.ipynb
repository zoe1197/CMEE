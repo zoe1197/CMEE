{
 "cells": [
  {
   "cell_type": "markdown",
   "metadata": {},
   "source": [
    "## Tutorial_5 Q_7"
   ]
  },
  {
   "cell_type": "code",
   "execution_count": 1,
   "metadata": {},
   "outputs": [
    {
     "ename": "NameError",
     "evalue": "name 'N_sum' is not defined",
     "output_type": "error",
     "traceback": [
      "\u001b[0;31m---------------------------------------------------------------------------\u001b[0m",
      "\u001b[0;31mNameError\u001b[0m                                 Traceback (most recent call last)",
      "\u001b[0;32m<ipython-input-1-398281f6ea57>\u001b[0m in \u001b[0;36m<module>\u001b[0;34m\u001b[0m\n\u001b[1;32m     13\u001b[0m     \u001b[0mN\u001b[0m \u001b[0;34m=\u001b[0m \u001b[0mnp\u001b[0m\u001b[0;34m.\u001b[0m\u001b[0mmatmul\u001b[0m\u001b[0;34m(\u001b[0m\u001b[0mnp\u001b[0m\u001b[0;34m.\u001b[0m\u001b[0mlinalg\u001b[0m\u001b[0;34m.\u001b[0m\u001b[0mmatrix_power\u001b[0m\u001b[0;34m(\u001b[0m\u001b[0mP\u001b[0m\u001b[0;34m,\u001b[0m \u001b[0mi\u001b[0m\u001b[0;34m)\u001b[0m\u001b[0;34m,\u001b[0m \u001b[0mN0\u001b[0m\u001b[0;34m)\u001b[0m\u001b[0;34m\u001b[0m\u001b[0;34m\u001b[0m\u001b[0m\n\u001b[1;32m     14\u001b[0m     \u001b[0mN_list\u001b[0m \u001b[0;34m=\u001b[0m \u001b[0mN_list\u001b[0m\u001b[0;34m.\u001b[0m\u001b[0mappend\u001b[0m\u001b[0;34m(\u001b[0m\u001b[0mnp\u001b[0m\u001b[0;34m.\u001b[0m\u001b[0msum\u001b[0m\u001b[0;34m(\u001b[0m\u001b[0mN\u001b[0m\u001b[0;34m)\u001b[0m\u001b[0;34m)\u001b[0m\u001b[0;34m\u001b[0m\u001b[0;34m\u001b[0m\u001b[0m\n\u001b[0;32m---> 15\u001b[0;31m     \u001b[0mN_sum\u001b[0m \u001b[0;34m=\u001b[0m \u001b[0mN_sum\u001b[0m \u001b[0;34m+\u001b[0m \u001b[0mnp\u001b[0m\u001b[0;34m.\u001b[0m\u001b[0msum\u001b[0m\u001b[0;34m(\u001b[0m\u001b[0mN\u001b[0m\u001b[0;34m)\u001b[0m\u001b[0;34m\u001b[0m\u001b[0;34m\u001b[0m\u001b[0m\n\u001b[0m\u001b[1;32m     16\u001b[0m \u001b[0;34m\u001b[0m\u001b[0m\n\u001b[1;32m     17\u001b[0m \u001b[0;34m\u001b[0m\u001b[0m\n",
      "\u001b[0;31mNameError\u001b[0m: name 'N_sum' is not defined"
     ]
    }
   ],
   "source": [
    "import numpy as np\n",
    "import matplotlib as plt\n",
    "\n",
    "\n",
    "P = np.array([[0,5,3,2,1], [0.9,0,0,0,0], [0,0.3,0,0,0], [0,0,0.1,0,0], [0,0,0,0.05,0]])\n",
    "N0 = np.array((0,0,0,0,10))\n",
    "N20 = np.matmul(np.linalg.matrix_power(P, 20), N0)\n",
    "N20\n",
    "\n",
    "N_list = []\n",
    "N_sum = c()\n",
    "for i in range(1,20,1):\n",
    "    \n",
    "    N = np.matmul(np.linalg.matrix_power(P, i), N0)\n",
    "    N_list = N_list.append(np.sum(N))\n",
    "    N_sum = N_sum + np.sum(N)\n",
    "    \n",
    "\n",
    "plt.plot(range(20), N_list)\n",
    "plt.plot(range(20), N_sum)\n",
    "plt.show()"
   ]
  },
  {
   "cell_type": "markdown",
   "metadata": {},
   "source": [
    "## Tutorial_5 Q_3"
   ]
  },
  {
   "cell_type": "code",
   "execution_count": 7,
   "metadata": {},
   "outputs": [
    {
     "name": "stdout",
     "output_type": "stream",
     "text": [
      "[[0. 1. 0. 0. 1. 0.]\n",
      " [1. 0. 1. 0. 1. 0.]\n",
      " [0. 1. 0. 1. 0. 0.]\n",
      " [0. 0. 1. 0. 1. 1.]\n",
      " [1. 1. 0. 1. 0. 0.]\n",
      " [0. 0. 0. 1. 0. 0.]]\n",
      "\n",
      "[2. 3. 2. 3. 3. 1.]\n",
      "\n",
      "[[-2.  1.  0.  0.  1.  0.]\n",
      " [ 1. -3.  1.  0.  1.  0.]\n",
      " [ 0.  1. -2.  1.  0.  0.]\n",
      " [ 0.  0.  1. -3.  1.  1.]\n",
      " [ 1.  1.  0.  1. -3.  0.]\n",
      " [ 0.  0.  0.  1.  0. -1.]]\n",
      "\n",
      "[-3.33066907e-16+0.j -7.21586391e-01+0.j -1.68256939e+00+0.j\n",
      " -3.00000000e+00+0.j -3.70462437e+00+0.j -4.89121985e+00+0.j]\n"
     ]
    }
   ],
   "source": [
    "import matplotlib.pyplot as plt\n",
    "import numpy as np\n",
    "import scipy.linalg as la\n",
    "\n",
    "adj = np.zeros((6,6))\n",
    "\n",
    "adj[0,1] = 1; adj[0,4] = 1\n",
    "adj[1,0] = 1; adj[1,2] = 1; adj[1,4] = 1;\n",
    "adj[2,1] = 1; adj[2,3] = 1\n",
    "adj[3,2] = 1; adj[3,4] = 1; adj[3,5] = 1;\n",
    "adj[4,0] = 1; adj[4,1] = 1; adj[4,3] = 1; \n",
    "adj[5,3] = 1\n",
    "\n",
    "print(adj)\n",
    "print('')\n",
    "\n",
    "degree = np.sum(adj,axis=0)\n",
    "\n",
    "print(degree)\n",
    "print('')\n",
    "\n",
    "D = np.zeros((6,6))\n",
    "for i in range(6):\n",
    "    D[i,i] = degree[i]\n",
    "\n",
    "L = adj - D\n",
    "print(L)\n",
    "print('')\n",
    "\n",
    "eigen = la.eig(L)\n",
    "print(eigen[0])"
   ]
  }
 ],
 "metadata": {
  "kernelspec": {
   "display_name": "Python 3",
   "language": "python",
   "name": "python3"
  },
  "language_info": {
   "codemirror_mode": {
    "name": "ipython",
    "version": 3
   },
   "file_extension": ".py",
   "mimetype": "text/x-python",
   "name": "python",
   "nbconvert_exporter": "python",
   "pygments_lexer": "ipython3",
   "version": "3.8.5"
  }
 },
 "nbformat": 4,
 "nbformat_minor": 4
}
